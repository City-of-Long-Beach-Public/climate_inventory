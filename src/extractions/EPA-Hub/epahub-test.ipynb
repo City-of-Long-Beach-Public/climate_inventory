{
 "cells": [
  {
   "cell_type": "markdown",
   "metadata": {},
   "source": [
    "## Test - EPA HUB"
   ]
  },
  {
   "cell_type": "code",
   "execution_count": 8,
   "metadata": {},
   "outputs": [],
   "source": [
    "import requests\n",
    "import pandas as pd\n",
    "from bs4 import BeautifulSoup"
   ]
  },
  {
   "cell_type": "markdown",
   "metadata": {},
   "source": [
    "### Parameters"
   ]
  },
  {
   "cell_type": "code",
   "execution_count": 4,
   "metadata": {},
   "outputs": [],
   "source": [
    "URL = \"https://www.epa.gov/climateleadership/ghg-emission-factors-hub\""
   ]
  },
  {
   "cell_type": "markdown",
   "metadata": {},
   "source": [
    "### Functions"
   ]
  },
  {
   "cell_type": "code",
   "execution_count": 6,
   "metadata": {},
   "outputs": [],
   "source": [
    "headers = {\n",
    "    \"Authority\": \"www.epa.gov\",\n",
    "    \"Method\": \"GET\",\n",
    "    \"Path\": \"/climateleadership/ghg-emission-factors-hub\",\n",
    "    \"Scheme\": \"https\",\n",
    "    \"Accept\": \"text/html,application/xhtml+xml,application/xml;q=0.9,image/avif,image/webp,image/apng,*/*;q=0.8,application/signed-exchange;v=b3;q=0.7\",\n",
    "    \"Accept-Encoding\": \"gzip, deflate, br\",\n",
    "    \"Accept-Language\": \"en-US,en;q=0.9\",\n",
    "    \"Cache-Control\": \"max-age=0\",\n",
    "    \"If-None-Match\": \"1689275341\",\n",
    "    \"Sec-Ch-Ua\": '\"Not.A/Brand\";v=\"8\", \"Chromium\";v=\"114\", \"Google Chrome\";v=\"114\"',\n",
    "    \"Sec-Ch-Ua-Mobile\": \"?0\",\n",
    "    \"Sec-Ch-Ua-Platform\": '\"Windows\"',\n",
    "    \"Sec-Fetch-Dest\": \"document\",\n",
    "    \"Sec-Fetch-Mode\": \"navigate\",\n",
    "    \"Sec-Fetch-Site\": \"cross-site\",\n",
    "    \"Sec-Fetch-User\": \"?1\",\n",
    "    \"Upgrade-Insecure-Requests\": \"1\",\n",
    "    \"User-Agent\": \"Mozilla/5.0 (Windows NT 10.0; Win64; x64) AppleWebKit/537.36 (KHTML, like Gecko) Chrome/114.0.0.0 Safari/537.36\"\n",
    "}\n"
   ]
  },
  {
   "cell_type": "markdown",
   "metadata": {},
   "source": [
    "### Tests"
   ]
  },
  {
   "cell_type": "code",
   "execution_count": 34,
   "metadata": {},
   "outputs": [],
   "source": [
    "r = requests.get(URL, headers=headers)\n",
    "soup = BeautifulSoup(r.content, \"html.parser\")\n",
    "# Get all hrefs and their text\n",
    "href_dicts = []\n",
    "hrefs = soup.find_all(\"a\")\n",
    "for href in hrefs:\n",
    "    href_dict = {}\n",
    "    text=  href.text\n",
    "    url = href.get(\"href\")\n",
    "\n",
    "    if \"GHG\" not in text:\n",
    "        continue\n",
    "\n",
    "    if \"xls\" in url:     \n",
    "        href_dict[\"name\"] = str(text).replace(\"\\n\", \"\")\n",
    "        href_dict[\"url\"] = f\"https:{url}\"\n",
    "        href_dicts.append(href_dict)\n",
    " \n",
    "    \n",
    "    elif \"pdf\" in url:\n",
    "        href_dict[\"name\"] = str(text).replace(\"\\n\", \"\") \n",
    "        href_dict[\"url\"] = f\"https:{url}\"\n",
    "\n",
    "        href_dicts.append(href_dict)\n",
    "\n",
    "# Create dataframe\n",
    "df = pd.DataFrame.from_dict(href_dicts)"
   ]
  },
  {
   "cell_type": "markdown",
   "metadata": {},
   "source": [
    "### Getting xlsx files"
   ]
  },
  {
   "cell_type": "code",
   "execution_count": 36,
   "metadata": {},
   "outputs": [
    {
     "data": {
      "text/plain": [
       "['https:/system/files/documents/2023-03/ghg-emission-factors-hub.xlsx',\n",
       " 'https:/system/files/documents/2023-04/ghg-emission-factors-hub-2022.xlsx',\n",
       " 'https:/system/files/documents/2023-04/ghg-emission-factors-hub-2021.xlsx',\n",
       " 'https:/system/files/documents/2023-04/ghg-emission-factors-hub-2020.xlsx',\n",
       " 'https:/system/files/documents/2023-04/ghg-emission-factors-hub-2018.xlsx',\n",
       " 'https:/system/files/documents/2023-04/ghg-emission-factors-hub-2015.xlsx',\n",
       " 'https:/system/files/documents/2023-04/ghg-emission-factors-hub-2014.xlsx',\n",
       " 'https:/system/files/documents/2023-04/ghg-emission-factors-hub-2011.xlsx']"
      ]
     },
     "execution_count": 36,
     "metadata": {},
     "output_type": "execute_result"
    }
   ],
   "source": [
    "xlsx_urls = df[\"url\"].tolist()\n",
    "undesired_words = [\"pdf\"]\n",
    "\n",
    "xlsx_urls = [url for url in xlsx_urls if not any(word in url for word in undesired_words)]\n",
    "xlsx_urls"
   ]
  }
 ],
 "metadata": {
  "kernelspec": {
   "display_name": "Python 3",
   "language": "python",
   "name": "python3"
  },
  "language_info": {
   "codemirror_mode": {
    "name": "ipython",
    "version": 3
   },
   "file_extension": ".py",
   "mimetype": "text/x-python",
   "name": "python",
   "nbconvert_exporter": "python",
   "pygments_lexer": "ipython3",
   "version": "3.11.3"
  },
  "orig_nbformat": 4
 },
 "nbformat": 4,
 "nbformat_minor": 2
}
