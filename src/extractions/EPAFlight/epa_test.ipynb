{
 "cells": [
  {
   "attachments": {},
   "cell_type": "markdown",
   "metadata": {},
   "source": [
    "# EPA - Flight Data Base Tests"
   ]
  },
  {
   "cell_type": "code",
   "execution_count": 18,
   "metadata": {},
   "outputs": [],
   "source": [
    "import requests\n",
    "import pandas as pd"
   ]
  },
  {
   "cell_type": "code",
   "execution_count": 19,
   "metadata": {},
   "outputs": [
    {
     "name": "stdout",
     "output_type": "stream",
     "text": [
      "The jupyter_black extension is already loaded. To reload it, use:\n",
      "  %reload_ext jupyter_black\n"
     ]
    }
   ],
   "source": [
    "%load_ext jupyter_black"
   ]
  },
  {
   "attachments": {},
   "cell_type": "markdown",
   "metadata": {},
   "source": [
    "#### Webscraping tests"
   ]
  },
  {
   "cell_type": "code",
   "execution_count": 20,
   "metadata": {},
   "outputs": [],
   "source": [
    "SERVICE_API = \"https://ghgdata.epa.gov/ghgp/service/populateSectorDashboard/\"\n",
    "FACILITIES_API = \"https://ghgdata.epa.gov/ghgp/service/listFacility/\""
   ]
  },
  {
   "cell_type": "code",
   "execution_count": 21,
   "metadata": {},
   "outputs": [],
   "source": [
    "headers = {\n",
    "    \"Host\": \"ghgdata.epa.gov\",\n",
    "    \"Origin\": \"https://ghgdata.epa.gov\",\n",
    "    \"Referer\": \"https://ghgdata.epa.gov/ghgp/main.do\",\n",
    "    \"Sec-Ch-Ua\": '\"Not.A/Brand\";v=\"8\", \"Chromium\";v=\"114\", \"Google Chrome\";v=\"114\"',\n",
    "    \"Sec-Ch-Ua-Mobile\": \"?0\",\n",
    "    \"Sec-Ch-Ua-Platform\": '\"Windows\"',\n",
    "    \"Sec-Fetch-Dest\": \"empty\",\n",
    "    \"Sec-Fetch-Mode\": \"cors\",\n",
    "    \"Sec-Fetch-Site\": \"same-origin\",\n",
    "    \"User-Agent\": \"Mozilla/5.0 (Windows NT 10.0; Win64; x64) AppleWebKit/537.36 (KHTML, like Gecko) Chrome/114.0.0.0 Safari/537.36\",\n",
    "    \"X-Requested-With\": \"XMLHttpRequest\",\n",
    "}"
   ]
  },
  {
   "cell_type": "code",
   "execution_count": 25,
   "metadata": {},
   "outputs": [],
   "source": [
    "new_payload = {\n",
    "    \"trend\": \"current\",\n",
    "    \"dataSource\": \"E\",\n",
    "    \"reportingYear\": \"2021\",\n",
    "    \"currentYear\": \"2021\",\n",
    "    \"query\": \"Long Beach\",\n",
    "    \"lowE\": \"-20000\",\n",
    "    \"highE\": \"23000000\",\n",
    "    \"state\": \"CA\",\n",
    "    \"countyFips\": \"\",\n",
    "    \"msaCode\": \"\",\n",
    "    \"stateLevel\": \"0\",\n",
    "    \"basin\": \"\",\n",
    "    \"gases\": [\n",
    "        \"true\",\n",
    "        \"true\",\n",
    "        \"true\",\n",
    "        \"true\",\n",
    "        \"true\",\n",
    "        \"false\",\n",
    "        \"true\",\n",
    "        \"true\",\n",
    "        \"true\",\n",
    "        \"true\",\n",
    "        \"true\",\n",
    "        \"true\",\n",
    "    ],\n",
    "    \"sectors\": [\n",
    "        [\"true\"],\n",
    "        [\"true\", \"true\", \"true\", \"true\", \"true\"],\n",
    "        [\"true\", \"true\", \"true\", \"true\", \"true\", \"true\", \"true\", \"true\"],\n",
    "        [\"true\", \"true\", \"true\", \"true\", \"true\", \"true\"],\n",
    "        [\"true\"],\n",
    "        [\"true\", \"true\", \"true\"],\n",
    "        [\n",
    "            \"true\",\n",
    "            \"true\",\n",
    "            \"true\",\n",
    "            \"true\",\n",
    "            \"true\",\n",
    "            \"true\",\n",
    "            \"true\",\n",
    "            \"true\",\n",
    "            \"true\",\n",
    "            \"true\",\n",
    "            \"true\",\n",
    "            \"true\",\n",
    "        ],\n",
    "        [\n",
    "            \"true\",\n",
    "            \"true\",\n",
    "            \"true\",\n",
    "            \"true\",\n",
    "            \"true\",\n",
    "            \"true\",\n",
    "            \"true\",\n",
    "            \"true\",\n",
    "            \"true\",\n",
    "            \"true\",\n",
    "            \"true\",\n",
    "        ],\n",
    "        [\n",
    "            \"true\",\n",
    "            \"true\",\n",
    "            \"true\",\n",
    "            \"true\",\n",
    "            \"true\",\n",
    "            \"true\",\n",
    "            \"true\",\n",
    "            \"true\",\n",
    "            \"true\",\n",
    "            \"true\",\n",
    "            \"true\",\n",
    "            \"true\",\n",
    "        ],\n",
    "    ],\n",
    "    \"sortOrder\": \"0\",\n",
    "    \"supplierSector\": 0,\n",
    "    \"reportingStatus\": \"ALL\",\n",
    "    \"searchOptions\": \"11001100\",\n",
    "    \"injectionSelection\": 11,\n",
    "    \"emissionsType\": \"\",\n",
    "    \"tribalLandId\": \"\",\n",
    "    \"pageNumber\": 0,\n",
    "    \"overlayLevel\": 0,\n",
    "    \"visType\": \"list\",\n",
    "}"
   ]
  },
  {
   "cell_type": "code",
   "execution_count": 24,
   "metadata": {},
   "outputs": [],
   "source": []
  },
  {
   "attachments": {},
   "cell_type": "markdown",
   "metadata": {},
   "source": [
    "### Functions"
   ]
  },
  {
   "cell_type": "code",
   "execution_count": 26,
   "metadata": {},
   "outputs": [],
   "source": [
    "def get_facilities(payload_facilities, year_to_query=2021):\n",
    "    \"\"\"\n",
    "    Makes a request to the FACILITIES_API and returns a dataframe of the results.\n",
    "\n",
    "    Parameters\n",
    "    ----------\n",
    "    payload_facilities : dict\n",
    "    \"\"\"\n",
    "\n",
    "    payload_facilities[\"reportingYear\"] = str(year_to_query)\n",
    "\n",
    "    r_facilities = requests.post(FACILITIES_API, json=new_payload, headers=headers)\n",
    "    print(r_facilities.status_code)\n",
    "    print(r_facilities.content)\n",
    "    content = r_facilities.json()\n",
    "    unit = content[\"unit\"]\n",
    "    year = content[\"year\"]\n",
    "    df_facilities = pd.DataFrame(content[\"data\"][\"rows\"])\n",
    "    df_facilities.drop(columns=[\"id\", \"icons\"], inplace=True)\n",
    "    df_facilities.rename(columns={\"total\": \"metric_tons_CO2\"}, inplace=True)\n",
    "    df_facilities.loc[:, \"unit\"] = unit\n",
    "    df_facilities.loc[:, \"year\"] = year\n",
    "\n",
    "    return df_facilities"
   ]
  },
  {
   "attachments": {},
   "cell_type": "markdown",
   "metadata": {},
   "source": [
    "### Querying the API"
   ]
  },
  {
   "cell_type": "code",
   "execution_count": 28,
   "metadata": {},
   "outputs": [
    {
     "name": "stdout",
     "output_type": "stream",
     "text": [
      "200\n",
      "b'{\"data\":{\"cols\":[{\"id\":\"icons\",\"name\":\"\",\"field\":\"icons\",\"sortable\":false,\"type\":\"string\",\"cssClass\":\"\"},{\"id\":\"facility\",\"name\":\"Facility\",\"field\":\"facility\",\"sortable\":true,\"type\":\"string\",\"cssClass\":\"list-item\"},{\"id\":\"city\",\"name\":\"City\",\"field\":\"city\",\"sortable\":true,\"type\":\"string\",\"cssClass\":\"list-item\"},{\"id\":\"state\",\"name\":\"State\",\"field\":\"state\",\"sortable\":true,\"type\":\"string\",\"cssClass\":\"list-item\"},{\"id\":\"total\",\"name\":\"Total Reported Emissions\",\"field\":\"total\",\"sortable\":true,\"type\":\"number\",\"cssClass\":\"list-item list-number\"},{\"id\":\"sectors\",\"name\":\"Sectors\",\"field\":\"sectors\",\"sortable\":true,\"type\":\"string\",\"cssClass\":\"list-item\"}],\"rows\":[{\"id\":\"id0\",\"icons\":\"\",\"facility\":\"AES Alamitos [1001444]\",\"city\":\"LONG BEACH\",\"state\":\"CA\",\"total\":\"823,900\",\"sectors\":\"Power Plants\"},{\"id\":\"id1\",\"icons\":\"<img src=\\'img/notification.gif\\' title=\\'Verification of this facility&apos;s report was still in progress as of $!{dataDate}.\\' alt=\\'Verification of this facility&apos;s report was still in progress as of $!{dataDate}.\\' width=\\'15\\' height=\\'15\\' border=\\'0\\'> \",\"facility\":\"California Resources Production Corporation- LA Basin Gathering and Boosting [1012348]\",\"city\":\"Long Beach\",\"state\":\"CA\",\"total\":\"244,801\",\"sectors\":\"Petroleum and Natural Gas Systems\"},{\"id\":\"id2\",\"icons\":\"\",\"facility\":\"EDGINGTON OIL COMPANY [1007347]\",\"city\":\"LONG BEACH\",\"state\":\"CA\",\"total\":\"---\",\"sectors\":\"Petroleum and Natural Gas Systems\"},{\"id\":\"id3\",\"icons\":\"\",\"facility\":\"Gold Bond - LGB Plant [1011213]\",\"city\":\"Long Beach\",\"state\":\"CA\",\"total\":\"31,401\",\"sectors\":\"Minerals\"},{\"id\":\"id4\",\"icons\":\"\",\"facility\":\"Haynes Generating Station [1006097]\",\"city\":\"LONG BEACH\",\"state\":\"CA\",\"total\":\"1,486,475\",\"sectors\":\"Power Plants\"},{\"id\":\"id5\",\"icons\":\"\",\"facility\":\"Long Beach Generating Station [1000490]\",\"city\":\"LONG BEACH\",\"state\":\"CA\",\"total\":\"30,923\",\"sectors\":\"Power Plants\"},{\"id\":\"id6\",\"icons\":\"\",\"facility\":\"Los Angeles Basin 760 THUMS Long Beach Company [1008409]\",\"city\":\"Los Angeles\",\"state\":\"CA\",\"total\":\"---\",\"sectors\":\"Petroleum and Natural Gas Systems\"},{\"id\":\"id7\",\"icons\":\"\",\"facility\":\"Southeast Resource Recovery Facility (SERRF) [1003340]\",\"city\":\"LONG BEACH\",\"state\":\"CA\",\"total\":\"133,840\",\"sectors\":\"Waste\"},{\"id\":\"id8\",\"icons\":\"\",\"facility\":\"Thums Long Beach Company [1005066]\",\"city\":\"Long Beach\",\"state\":\"CA\",\"total\":\"---\",\"sectors\":\"Petroleum and Natural Gas Systems\"}]},\"tableHeader\":\"2020 - Total Reported Emissions by County/Sector in Metric Tons of CO<sub>2</sub>e \",\"domain\":\"California - \",\"mode\":\"COUNTY\",\"unit\":\"Metric Tons\",\"year\":2020}'\n"
     ]
    },
    {
     "data": {
      "text/html": [
       "<div>\n",
       "<style scoped>\n",
       "    .dataframe tbody tr th:only-of-type {\n",
       "        vertical-align: middle;\n",
       "    }\n",
       "\n",
       "    .dataframe tbody tr th {\n",
       "        vertical-align: top;\n",
       "    }\n",
       "\n",
       "    .dataframe thead th {\n",
       "        text-align: right;\n",
       "    }\n",
       "</style>\n",
       "<table border=\"1\" class=\"dataframe\">\n",
       "  <thead>\n",
       "    <tr style=\"text-align: right;\">\n",
       "      <th></th>\n",
       "      <th>facility</th>\n",
       "      <th>city</th>\n",
       "      <th>state</th>\n",
       "      <th>metric_tons_CO2</th>\n",
       "      <th>sectors</th>\n",
       "      <th>unit</th>\n",
       "      <th>year</th>\n",
       "    </tr>\n",
       "  </thead>\n",
       "  <tbody>\n",
       "    <tr>\n",
       "      <th>0</th>\n",
       "      <td>AES Alamitos [1001444]</td>\n",
       "      <td>LONG BEACH</td>\n",
       "      <td>CA</td>\n",
       "      <td>823,900</td>\n",
       "      <td>Power Plants</td>\n",
       "      <td>Metric Tons</td>\n",
       "      <td>2020</td>\n",
       "    </tr>\n",
       "    <tr>\n",
       "      <th>1</th>\n",
       "      <td>California Resources Production Corporation- L...</td>\n",
       "      <td>Long Beach</td>\n",
       "      <td>CA</td>\n",
       "      <td>244,801</td>\n",
       "      <td>Petroleum and Natural Gas Systems</td>\n",
       "      <td>Metric Tons</td>\n",
       "      <td>2020</td>\n",
       "    </tr>\n",
       "    <tr>\n",
       "      <th>2</th>\n",
       "      <td>EDGINGTON OIL COMPANY [1007347]</td>\n",
       "      <td>LONG BEACH</td>\n",
       "      <td>CA</td>\n",
       "      <td>---</td>\n",
       "      <td>Petroleum and Natural Gas Systems</td>\n",
       "      <td>Metric Tons</td>\n",
       "      <td>2020</td>\n",
       "    </tr>\n",
       "    <tr>\n",
       "      <th>3</th>\n",
       "      <td>Gold Bond - LGB Plant [1011213]</td>\n",
       "      <td>Long Beach</td>\n",
       "      <td>CA</td>\n",
       "      <td>31,401</td>\n",
       "      <td>Minerals</td>\n",
       "      <td>Metric Tons</td>\n",
       "      <td>2020</td>\n",
       "    </tr>\n",
       "    <tr>\n",
       "      <th>4</th>\n",
       "      <td>Haynes Generating Station [1006097]</td>\n",
       "      <td>LONG BEACH</td>\n",
       "      <td>CA</td>\n",
       "      <td>1,486,475</td>\n",
       "      <td>Power Plants</td>\n",
       "      <td>Metric Tons</td>\n",
       "      <td>2020</td>\n",
       "    </tr>\n",
       "    <tr>\n",
       "      <th>5</th>\n",
       "      <td>Long Beach Generating Station [1000490]</td>\n",
       "      <td>LONG BEACH</td>\n",
       "      <td>CA</td>\n",
       "      <td>30,923</td>\n",
       "      <td>Power Plants</td>\n",
       "      <td>Metric Tons</td>\n",
       "      <td>2020</td>\n",
       "    </tr>\n",
       "    <tr>\n",
       "      <th>6</th>\n",
       "      <td>Los Angeles Basin 760 THUMS Long Beach Company...</td>\n",
       "      <td>Los Angeles</td>\n",
       "      <td>CA</td>\n",
       "      <td>---</td>\n",
       "      <td>Petroleum and Natural Gas Systems</td>\n",
       "      <td>Metric Tons</td>\n",
       "      <td>2020</td>\n",
       "    </tr>\n",
       "    <tr>\n",
       "      <th>7</th>\n",
       "      <td>Southeast Resource Recovery Facility (SERRF) [...</td>\n",
       "      <td>LONG BEACH</td>\n",
       "      <td>CA</td>\n",
       "      <td>133,840</td>\n",
       "      <td>Waste</td>\n",
       "      <td>Metric Tons</td>\n",
       "      <td>2020</td>\n",
       "    </tr>\n",
       "    <tr>\n",
       "      <th>8</th>\n",
       "      <td>Thums Long Beach Company [1005066]</td>\n",
       "      <td>Long Beach</td>\n",
       "      <td>CA</td>\n",
       "      <td>---</td>\n",
       "      <td>Petroleum and Natural Gas Systems</td>\n",
       "      <td>Metric Tons</td>\n",
       "      <td>2020</td>\n",
       "    </tr>\n",
       "  </tbody>\n",
       "</table>\n",
       "</div>"
      ],
      "text/plain": [
       "                                            facility         city state   \n",
       "0                             AES Alamitos [1001444]   LONG BEACH    CA  \\\n",
       "1  California Resources Production Corporation- L...   Long Beach    CA   \n",
       "2                    EDGINGTON OIL COMPANY [1007347]   LONG BEACH    CA   \n",
       "3                    Gold Bond - LGB Plant [1011213]   Long Beach    CA   \n",
       "4                Haynes Generating Station [1006097]   LONG BEACH    CA   \n",
       "5            Long Beach Generating Station [1000490]   LONG BEACH    CA   \n",
       "6  Los Angeles Basin 760 THUMS Long Beach Company...  Los Angeles    CA   \n",
       "7  Southeast Resource Recovery Facility (SERRF) [...   LONG BEACH    CA   \n",
       "8                 Thums Long Beach Company [1005066]   Long Beach    CA   \n",
       "\n",
       "  metric_tons_CO2                            sectors         unit  year  \n",
       "0         823,900                       Power Plants  Metric Tons  2020  \n",
       "1         244,801  Petroleum and Natural Gas Systems  Metric Tons  2020  \n",
       "2             ---  Petroleum and Natural Gas Systems  Metric Tons  2020  \n",
       "3          31,401                           Minerals  Metric Tons  2020  \n",
       "4       1,486,475                       Power Plants  Metric Tons  2020  \n",
       "5          30,923                       Power Plants  Metric Tons  2020  \n",
       "6             ---  Petroleum and Natural Gas Systems  Metric Tons  2020  \n",
       "7         133,840                              Waste  Metric Tons  2020  \n",
       "8             ---  Petroleum and Natural Gas Systems  Metric Tons  2020  "
      ]
     },
     "execution_count": 28,
     "metadata": {},
     "output_type": "execute_result"
    }
   ],
   "source": [
    "df_facilities = get_facilities(new_payload, year_to_query=2020)\n",
    "df_facilities"
   ]
  },
  {
   "cell_type": "markdown",
   "metadata": {},
   "source": [
    "### Testing Class"
   ]
  },
  {
   "cell_type": "code",
   "execution_count": 1,
   "metadata": {},
   "outputs": [],
   "source": [
    "from EPAExtractor import EPAExtractor"
   ]
  },
  {
   "cell_type": "code",
   "execution_count": 2,
   "metadata": {},
   "outputs": [
    {
     "ename": "JSONDecodeError",
     "evalue": "Expecting value: line 1 column 1 (char 0)",
     "output_type": "error",
     "traceback": [
      "\u001b[1;31m---------------------------------------------------------------------------\u001b[0m",
      "\u001b[1;31mJSONDecodeError\u001b[0m                           Traceback (most recent call last)",
      "File \u001b[1;32mc:\\Users\\fdmol\\AppData\\Local\\Programs\\Python\\Python311\\Lib\\site-packages\\requests\\models.py:971\u001b[0m, in \u001b[0;36mResponse.json\u001b[1;34m(self, **kwargs)\u001b[0m\n\u001b[0;32m    970\u001b[0m \u001b[39mtry\u001b[39;00m:\n\u001b[1;32m--> 971\u001b[0m     \u001b[39mreturn\u001b[39;00m complexjson\u001b[39m.\u001b[39;49mloads(\u001b[39mself\u001b[39;49m\u001b[39m.\u001b[39;49mtext, \u001b[39m*\u001b[39;49m\u001b[39m*\u001b[39;49mkwargs)\n\u001b[0;32m    972\u001b[0m \u001b[39mexcept\u001b[39;00m JSONDecodeError \u001b[39mas\u001b[39;00m e:\n\u001b[0;32m    973\u001b[0m     \u001b[39m# Catch JSON-related errors and raise as requests.JSONDecodeError\u001b[39;00m\n\u001b[0;32m    974\u001b[0m     \u001b[39m# This aliases json.JSONDecodeError and simplejson.JSONDecodeError\u001b[39;00m\n",
      "File \u001b[1;32mc:\\Users\\fdmol\\AppData\\Local\\Programs\\Python\\Python311\\Lib\\json\\__init__.py:346\u001b[0m, in \u001b[0;36mloads\u001b[1;34m(s, cls, object_hook, parse_float, parse_int, parse_constant, object_pairs_hook, **kw)\u001b[0m\n\u001b[0;32m    343\u001b[0m \u001b[39mif\u001b[39;00m (\u001b[39mcls\u001b[39m \u001b[39mis\u001b[39;00m \u001b[39mNone\u001b[39;00m \u001b[39mand\u001b[39;00m object_hook \u001b[39mis\u001b[39;00m \u001b[39mNone\u001b[39;00m \u001b[39mand\u001b[39;00m\n\u001b[0;32m    344\u001b[0m         parse_int \u001b[39mis\u001b[39;00m \u001b[39mNone\u001b[39;00m \u001b[39mand\u001b[39;00m parse_float \u001b[39mis\u001b[39;00m \u001b[39mNone\u001b[39;00m \u001b[39mand\u001b[39;00m\n\u001b[0;32m    345\u001b[0m         parse_constant \u001b[39mis\u001b[39;00m \u001b[39mNone\u001b[39;00m \u001b[39mand\u001b[39;00m object_pairs_hook \u001b[39mis\u001b[39;00m \u001b[39mNone\u001b[39;00m \u001b[39mand\u001b[39;00m \u001b[39mnot\u001b[39;00m kw):\n\u001b[1;32m--> 346\u001b[0m     \u001b[39mreturn\u001b[39;00m _default_decoder\u001b[39m.\u001b[39;49mdecode(s)\n\u001b[0;32m    347\u001b[0m \u001b[39mif\u001b[39;00m \u001b[39mcls\u001b[39m \u001b[39mis\u001b[39;00m \u001b[39mNone\u001b[39;00m:\n",
      "File \u001b[1;32mc:\\Users\\fdmol\\AppData\\Local\\Programs\\Python\\Python311\\Lib\\json\\decoder.py:337\u001b[0m, in \u001b[0;36mJSONDecoder.decode\u001b[1;34m(self, s, _w)\u001b[0m\n\u001b[0;32m    333\u001b[0m \u001b[39m\u001b[39m\u001b[39m\"\"\"Return the Python representation of ``s`` (a ``str`` instance\u001b[39;00m\n\u001b[0;32m    334\u001b[0m \u001b[39mcontaining a JSON document).\u001b[39;00m\n\u001b[0;32m    335\u001b[0m \n\u001b[0;32m    336\u001b[0m \u001b[39m\"\"\"\u001b[39;00m\n\u001b[1;32m--> 337\u001b[0m obj, end \u001b[39m=\u001b[39m \u001b[39mself\u001b[39;49m\u001b[39m.\u001b[39;49mraw_decode(s, idx\u001b[39m=\u001b[39;49m_w(s, \u001b[39m0\u001b[39;49m)\u001b[39m.\u001b[39;49mend())\n\u001b[0;32m    338\u001b[0m end \u001b[39m=\u001b[39m _w(s, end)\u001b[39m.\u001b[39mend()\n",
      "File \u001b[1;32mc:\\Users\\fdmol\\AppData\\Local\\Programs\\Python\\Python311\\Lib\\json\\decoder.py:355\u001b[0m, in \u001b[0;36mJSONDecoder.raw_decode\u001b[1;34m(self, s, idx)\u001b[0m\n\u001b[0;32m    354\u001b[0m \u001b[39mexcept\u001b[39;00m \u001b[39mStopIteration\u001b[39;00m \u001b[39mas\u001b[39;00m err:\n\u001b[1;32m--> 355\u001b[0m     \u001b[39mraise\u001b[39;00m JSONDecodeError(\u001b[39m\"\u001b[39m\u001b[39mExpecting value\u001b[39m\u001b[39m\"\u001b[39m, s, err\u001b[39m.\u001b[39mvalue) \u001b[39mfrom\u001b[39;00m \u001b[39mNone\u001b[39;00m\n\u001b[0;32m    356\u001b[0m \u001b[39mreturn\u001b[39;00m obj, end\n",
      "\u001b[1;31mJSONDecodeError\u001b[0m: Expecting value: line 1 column 1 (char 0)",
      "\nDuring handling of the above exception, another exception occurred:\n",
      "\u001b[1;31mJSONDecodeError\u001b[0m                           Traceback (most recent call last)",
      "Cell \u001b[1;32mIn[2], line 2\u001b[0m\n\u001b[0;32m      1\u001b[0m epa_extractor \u001b[39m=\u001b[39m EPAExtractor()\n\u001b[1;32m----> 2\u001b[0m df_facilities \u001b[39m=\u001b[39m epa_extractor\u001b[39m.\u001b[39;49mget_facilities(year_to_query\u001b[39m=\u001b[39;49m\u001b[39m2021\u001b[39;49m)\n\u001b[0;32m      3\u001b[0m df_facilities\n",
      "File \u001b[1;32mc:\\Users\\fdmol\\Desktop\\CIF-2023\\LongBeach\\Inventory-Automation\\climate_inventory\\src\\extractions\\EPAFlight\\EPAExtractor.py:41\u001b[0m, in \u001b[0;36mEPAExtractor.get_facilities\u001b[1;34m(self, year_to_query)\u001b[0m\n\u001b[0;32m     36\u001b[0m payload_facilities[\u001b[39m\"\u001b[39m\u001b[39mreportingYear\u001b[39m\u001b[39m\"\u001b[39m] \u001b[39m=\u001b[39m \u001b[39mstr\u001b[39m(year_to_query)\n\u001b[0;32m     38\u001b[0m r_facilities \u001b[39m=\u001b[39m requests\u001b[39m.\u001b[39mpost(\n\u001b[0;32m     39\u001b[0m     \u001b[39mself\u001b[39m\u001b[39m.\u001b[39mFACILITIES_API, json\u001b[39m=\u001b[39m\u001b[39mself\u001b[39m\u001b[39m.\u001b[39mpayload_facilities, headers\u001b[39m=\u001b[39m\u001b[39mself\u001b[39m\u001b[39m.\u001b[39mheaders\n\u001b[0;32m     40\u001b[0m )\n\u001b[1;32m---> 41\u001b[0m content \u001b[39m=\u001b[39m r_facilities\u001b[39m.\u001b[39;49mjson()\n\u001b[0;32m     42\u001b[0m unit \u001b[39m=\u001b[39m content[\u001b[39m\"\u001b[39m\u001b[39munit\u001b[39m\u001b[39m\"\u001b[39m]\n\u001b[0;32m     43\u001b[0m year \u001b[39m=\u001b[39m content[\u001b[39m\"\u001b[39m\u001b[39myear\u001b[39m\u001b[39m\"\u001b[39m]\n",
      "File \u001b[1;32mc:\\Users\\fdmol\\AppData\\Local\\Programs\\Python\\Python311\\Lib\\site-packages\\requests\\models.py:975\u001b[0m, in \u001b[0;36mResponse.json\u001b[1;34m(self, **kwargs)\u001b[0m\n\u001b[0;32m    971\u001b[0m     \u001b[39mreturn\u001b[39;00m complexjson\u001b[39m.\u001b[39mloads(\u001b[39mself\u001b[39m\u001b[39m.\u001b[39mtext, \u001b[39m*\u001b[39m\u001b[39m*\u001b[39mkwargs)\n\u001b[0;32m    972\u001b[0m \u001b[39mexcept\u001b[39;00m JSONDecodeError \u001b[39mas\u001b[39;00m e:\n\u001b[0;32m    973\u001b[0m     \u001b[39m# Catch JSON-related errors and raise as requests.JSONDecodeError\u001b[39;00m\n\u001b[0;32m    974\u001b[0m     \u001b[39m# This aliases json.JSONDecodeError and simplejson.JSONDecodeError\u001b[39;00m\n\u001b[1;32m--> 975\u001b[0m     \u001b[39mraise\u001b[39;00m RequestsJSONDecodeError(e\u001b[39m.\u001b[39mmsg, e\u001b[39m.\u001b[39mdoc, e\u001b[39m.\u001b[39mpos)\n",
      "\u001b[1;31mJSONDecodeError\u001b[0m: Expecting value: line 1 column 1 (char 0)"
     ]
    }
   ],
   "source": [
    "epa_extractor = EPAExtractor()\n",
    "df_facilities = epa_extractor.get_facilities(year_to_query=2021)\n",
    "df_facilities"
   ]
  }
 ],
 "metadata": {
  "kernelspec": {
   "display_name": "base",
   "language": "python",
   "name": "python3"
  },
  "language_info": {
   "codemirror_mode": {
    "name": "ipython",
    "version": 3
   },
   "file_extension": ".py",
   "mimetype": "text/x-python",
   "name": "python",
   "nbconvert_exporter": "python",
   "pygments_lexer": "ipython3",
   "version": "3.11.3"
  },
  "orig_nbformat": 4
 },
 "nbformat": 4,
 "nbformat_minor": 2
}
