{
 "cells": [
  {
   "attachments": {},
   "cell_type": "markdown",
   "metadata": {},
   "source": [
    "# EPA - Flight Data Base Tests"
   ]
  },
  {
   "cell_type": "code",
   "execution_count": 18,
   "metadata": {},
   "outputs": [],
   "source": [
    "import requests\n",
    "import pandas as pd"
   ]
  },
  {
   "cell_type": "code",
   "execution_count": 19,
   "metadata": {},
   "outputs": [
    {
     "name": "stdout",
     "output_type": "stream",
     "text": [
      "The jupyter_black extension is already loaded. To reload it, use:\n",
      "  %reload_ext jupyter_black\n"
     ]
    }
   ],
   "source": [
    "%load_ext jupyter_black"
   ]
  },
  {
   "attachments": {},
   "cell_type": "markdown",
   "metadata": {},
   "source": [
    "#### Webscraping tests"
   ]
  },
  {
   "cell_type": "code",
   "execution_count": 20,
   "metadata": {},
   "outputs": [],
   "source": [
    "SERVICE_API = \"https://ghgdata.epa.gov/ghgp/service/populateSectorDashboard/\"\n",
    "FACILITIES_API = \"https://ghgdata.epa.gov/ghgp/service/listFacility/\""
   ]
  },
  {
   "cell_type": "code",
   "execution_count": 21,
   "metadata": {},
   "outputs": [],
   "source": [
    "headers = {\n",
    "    \"Host\": \"ghgdata.epa.gov\",\n",
    "    \"Origin\": \"https://ghgdata.epa.gov\",\n",
    "    \"Referer\": \"https://ghgdata.epa.gov/ghgp/main.do\",\n",
    "    \"Sec-Ch-Ua\": '\"Not.A/Brand\";v=\"8\", \"Chromium\";v=\"114\", \"Google Chrome\";v=\"114\"',\n",
    "    \"Sec-Ch-Ua-Mobile\": \"?0\",\n",
    "    \"Sec-Ch-Ua-Platform\": '\"Windows\"',\n",
    "    \"Sec-Fetch-Dest\": \"empty\",\n",
    "    \"Sec-Fetch-Mode\": \"cors\",\n",
    "    \"Sec-Fetch-Site\": \"same-origin\",\n",
    "    \"User-Agent\": \"Mozilla/5.0 (Windows NT 10.0; Win64; x64) AppleWebKit/537.36 (KHTML, like Gecko) Chrome/114.0.0.0 Safari/537.36\",\n",
    "    \"X-Requested-With\": \"XMLHttpRequest\",\n",
    "}"
   ]
  },
  {
   "cell_type": "code",
   "execution_count": 22,
   "metadata": {},
   "outputs": [],
   "source": [
    "payload = {\n",
    "    \"trend\": \"current\",\n",
    "    \"dataSource\": \"E\",\n",
    "    \"reportingYear\": \"2021\",\n",
    "    \"currentYear\": \"2021\",\n",
    "    \"query\": \"Long Beach\",\n",
    "    \"lowE\": \"-20000\",\n",
    "    \"highE\": \"23000000\",\n",
    "    \"state\": \"CA\",\n",
    "    \"countyFips\": \"\",\n",
    "    \"msaCode\": \"\",\n",
    "    \"stateLevel\": \"0\",\n",
    "    \"basin\": \"\",\n",
    "    \"gases\": [\n",
    "        \"true\",\n",
    "        \"true\",\n",
    "        \"true\",\n",
    "        \"true\",\n",
    "        \"true\",\n",
    "        \"false\",\n",
    "        \"true\",\n",
    "        \"true\",\n",
    "        \"true\",\n",
    "        \"true\",\n",
    "        \"true\",\n",
    "        \"true\",\n",
    "    ],\n",
    "    \"sectors\": [\n",
    "        [\"true\"],\n",
    "        [\"true\", \"true\", \"true\", \"true\", \"true\"],\n",
    "        [\"true\", \"true\", \"true\", \"true\", \"true\", \"true\", \"true\", \"true\"],\n",
    "        [\"true\", \"true\", \"true\", \"true\", \"true\", \"true\"],\n",
    "        [\"true\"],\n",
    "        [\"true\", \"true\", \"true\"],\n",
    "        [\n",
    "            \"true\",\n",
    "            \"true\",\n",
    "            \"true\",\n",
    "            \"true\",\n",
    "            \"true\",\n",
    "            \"true\",\n",
    "            \"true\",\n",
    "            \"true\",\n",
    "            \"true\",\n",
    "            \"true\",\n",
    "            \"true\",\n",
    "            \"true\",\n",
    "        ],\n",
    "        [\n",
    "            \"true\",\n",
    "            \"true\",\n",
    "            \"true\",\n",
    "            \"true\",\n",
    "            \"true\",\n",
    "            \"true\",\n",
    "            \"true\",\n",
    "            \"true\",\n",
    "            \"true\",\n",
    "            \"true\",\n",
    "            \"true\",\n",
    "        ],\n",
    "        [\n",
    "            \"true\",\n",
    "            \"true\",\n",
    "            \"true\",\n",
    "            \"true\",\n",
    "            \"true\",\n",
    "            \"true\",\n",
    "            \"true\",\n",
    "            \"true\",\n",
    "            \"true\",\n",
    "            \"true\",\n",
    "            \"true\",\n",
    "            \"true\",\n",
    "        ],\n",
    "    ],\n",
    "    \"sortOrder\": \"0\",\n",
    "    \"supplierSector\": \"0\",\n",
    "    \"reportingStatus\": \"ALL\",\n",
    "    \"searchOptions\": \"11001100\",\n",
    "    \"injectionSelection\": \"11\",\n",
    "    \"emissionsType\": \"\",\n",
    "    \"tribalLandId\": \"\",\n",
    "    \"pageNumber\": \"0\",\n",
    "    \"overlayLevel\": \"0\",\n",
    "    \"visType\": \"map\",\n",
    "}"
   ]
  },
  {
   "cell_type": "code",
   "execution_count": 25,
   "metadata": {},
   "outputs": [],
   "source": [
    "new_payload = {\n",
    "    \"trend\": \"current\",\n",
    "    \"dataSource\": \"E\",\n",
    "    \"reportingYear\": \"2021\",\n",
    "    \"currentYear\": \"2021\",\n",
    "    \"query\": \"Long Beach\",\n",
    "    \"lowE\": \"-20000\",\n",
    "    \"highE\": \"23000000\",\n",
    "    \"state\": \"CA\",\n",
    "    \"countyFips\": \"\",\n",
    "    \"msaCode\": \"\",\n",
    "    \"stateLevel\": \"0\",\n",
    "    \"basin\": \"\",\n",
    "    \"gases\": [\n",
    "        \"true\",\n",
    "        \"true\",\n",
    "        \"true\",\n",
    "        \"true\",\n",
    "        \"true\",\n",
    "        \"false\",\n",
    "        \"true\",\n",
    "        \"true\",\n",
    "        \"true\",\n",
    "        \"true\",\n",
    "        \"true\",\n",
    "        \"true\",\n",
    "    ],\n",
    "    \"sectors\": [\n",
    "        [\"true\"],\n",
    "        [\"true\", \"true\", \"true\", \"true\", \"true\"],\n",
    "        [\"true\", \"true\", \"true\", \"true\", \"true\", \"true\", \"true\", \"true\"],\n",
    "        [\"true\", \"true\", \"true\", \"true\", \"true\", \"true\"],\n",
    "        [\"true\"],\n",
    "        [\"true\", \"true\", \"true\"],\n",
    "        [\n",
    "            \"true\",\n",
    "            \"true\",\n",
    "            \"true\",\n",
    "            \"true\",\n",
    "            \"true\",\n",
    "            \"true\",\n",
    "            \"true\",\n",
    "            \"true\",\n",
    "            \"true\",\n",
    "            \"true\",\n",
    "            \"true\",\n",
    "            \"true\",\n",
    "        ],\n",
    "        [\n",
    "            \"true\",\n",
    "            \"true\",\n",
    "            \"true\",\n",
    "            \"true\",\n",
    "            \"true\",\n",
    "            \"true\",\n",
    "            \"true\",\n",
    "            \"true\",\n",
    "            \"true\",\n",
    "            \"true\",\n",
    "            \"true\",\n",
    "        ],\n",
    "        [\n",
    "            \"true\",\n",
    "            \"true\",\n",
    "            \"true\",\n",
    "            \"true\",\n",
    "            \"true\",\n",
    "            \"true\",\n",
    "            \"true\",\n",
    "            \"true\",\n",
    "            \"true\",\n",
    "            \"true\",\n",
    "            \"true\",\n",
    "            \"true\",\n",
    "        ],\n",
    "    ],\n",
    "    \"sortOrder\": \"0\",\n",
    "    \"supplierSector\": 0,\n",
    "    \"reportingStatus\": \"ALL\",\n",
    "    \"searchOptions\": \"11001100\",\n",
    "    \"injectionSelection\": 11,\n",
    "    \"emissionsType\": \"\",\n",
    "    \"tribalLandId\": \"\",\n",
    "    \"pageNumber\": 0,\n",
    "    \"overlayLevel\": 0,\n",
    "    \"visType\": \"list\",\n",
    "}"
   ]
  },
  {
   "cell_type": "code",
   "execution_count": 24,
   "metadata": {},
   "outputs": [],
   "source": []
  },
  {
   "attachments": {},
   "cell_type": "markdown",
   "metadata": {},
   "source": [
    "### Functions"
   ]
  },
  {
   "cell_type": "code",
   "execution_count": 26,
   "metadata": {},
   "outputs": [],
   "source": [
    "def get_facilities(payload_facilities, year_to_query=2021):\n",
    "    \"\"\"\n",
    "    Makes a request to the FACILITIES_API and returns a dataframe of the results.\n",
    "\n",
    "    Parameters\n",
    "    ----------\n",
    "    payload_facilities : dict\n",
    "    \"\"\"\n",
    "\n",
    "    payload_facilities[\"reportingYear\"] = str(year_to_query)\n",
    "\n",
    "    r_facilities = requests.post(FACILITIES_API, json=new_payload, headers=headers)\n",
    "    print(r_facilities.status_code)\n",
    "    print(r_facilities.content)\n",
    "    content = r_facilities.json()\n",
    "    unit = content[\"unit\"]\n",
    "    year = content[\"year\"]\n",
    "    df_facilities = pd.DataFrame(content[\"data\"][\"rows\"])\n",
    "    df_facilities.drop(columns=[\"id\", \"icons\"], inplace=True)\n",
    "    df_facilities.rename(columns={\"total\": \"metric_tons_CO2\"}, inplace=True)\n",
    "    df_facilities.loc[:, \"unit\"] = unit\n",
    "    df_facilities.loc[:, \"year\"] = year\n",
    "\n",
    "    return df_facilities"
   ]
  },
  {
   "attachments": {},
   "cell_type": "markdown",
   "metadata": {},
   "source": [
    "### Querying the API"
   ]
  },
  {
   "cell_type": "code",
   "execution_count": 28,
   "metadata": {},
   "outputs": [],
   "source": [
    "df_facilities = get_facilities(new_payload, year_to_query=2020)\n",
    "df_facilities"
   ]
  },
  {
   "cell_type": "markdown",
   "metadata": {},
   "source": [
    "### Testing Class"
   ]
  },
  {
   "cell_type": "code",
   "execution_count": 1,
   "metadata": {},
   "outputs": [],
   "source": [
    "from EPAExtractor import EPAExtractor"
   ]
  },
  {
   "cell_type": "code",
   "execution_count": 2,
   "metadata": {},
   "outputs": [
    {
     "ename": "JSONDecodeError",
     "evalue": "Expecting value: line 1 column 1 (char 0)",
     "output_type": "error",
     "traceback": [
      "\u001b[1;31m---------------------------------------------------------------------------\u001b[0m",
      "\u001b[1;31mJSONDecodeError\u001b[0m                           Traceback (most recent call last)",
      "File \u001b[1;32mc:\\Users\\fdmol\\AppData\\Local\\Programs\\Python\\Python311\\Lib\\site-packages\\requests\\models.py:971\u001b[0m, in \u001b[0;36mResponse.json\u001b[1;34m(self, **kwargs)\u001b[0m\n\u001b[0;32m    970\u001b[0m \u001b[39mtry\u001b[39;00m:\n\u001b[1;32m--> 971\u001b[0m     \u001b[39mreturn\u001b[39;00m complexjson\u001b[39m.\u001b[39;49mloads(\u001b[39mself\u001b[39;49m\u001b[39m.\u001b[39;49mtext, \u001b[39m*\u001b[39;49m\u001b[39m*\u001b[39;49mkwargs)\n\u001b[0;32m    972\u001b[0m \u001b[39mexcept\u001b[39;00m JSONDecodeError \u001b[39mas\u001b[39;00m e:\n\u001b[0;32m    973\u001b[0m     \u001b[39m# Catch JSON-related errors and raise as requests.JSONDecodeError\u001b[39;00m\n\u001b[0;32m    974\u001b[0m     \u001b[39m# This aliases json.JSONDecodeError and simplejson.JSONDecodeError\u001b[39;00m\n",
      "File \u001b[1;32mc:\\Users\\fdmol\\AppData\\Local\\Programs\\Python\\Python311\\Lib\\json\\__init__.py:346\u001b[0m, in \u001b[0;36mloads\u001b[1;34m(s, cls, object_hook, parse_float, parse_int, parse_constant, object_pairs_hook, **kw)\u001b[0m\n\u001b[0;32m    343\u001b[0m \u001b[39mif\u001b[39;00m (\u001b[39mcls\u001b[39m \u001b[39mis\u001b[39;00m \u001b[39mNone\u001b[39;00m \u001b[39mand\u001b[39;00m object_hook \u001b[39mis\u001b[39;00m \u001b[39mNone\u001b[39;00m \u001b[39mand\u001b[39;00m\n\u001b[0;32m    344\u001b[0m         parse_int \u001b[39mis\u001b[39;00m \u001b[39mNone\u001b[39;00m \u001b[39mand\u001b[39;00m parse_float \u001b[39mis\u001b[39;00m \u001b[39mNone\u001b[39;00m \u001b[39mand\u001b[39;00m\n\u001b[0;32m    345\u001b[0m         parse_constant \u001b[39mis\u001b[39;00m \u001b[39mNone\u001b[39;00m \u001b[39mand\u001b[39;00m object_pairs_hook \u001b[39mis\u001b[39;00m \u001b[39mNone\u001b[39;00m \u001b[39mand\u001b[39;00m \u001b[39mnot\u001b[39;00m kw):\n\u001b[1;32m--> 346\u001b[0m     \u001b[39mreturn\u001b[39;00m _default_decoder\u001b[39m.\u001b[39;49mdecode(s)\n\u001b[0;32m    347\u001b[0m \u001b[39mif\u001b[39;00m \u001b[39mcls\u001b[39m \u001b[39mis\u001b[39;00m \u001b[39mNone\u001b[39;00m:\n",
      "File \u001b[1;32mc:\\Users\\fdmol\\AppData\\Local\\Programs\\Python\\Python311\\Lib\\json\\decoder.py:337\u001b[0m, in \u001b[0;36mJSONDecoder.decode\u001b[1;34m(self, s, _w)\u001b[0m\n\u001b[0;32m    333\u001b[0m \u001b[39m\u001b[39m\u001b[39m\"\"\"Return the Python representation of ``s`` (a ``str`` instance\u001b[39;00m\n\u001b[0;32m    334\u001b[0m \u001b[39mcontaining a JSON document).\u001b[39;00m\n\u001b[0;32m    335\u001b[0m \n\u001b[0;32m    336\u001b[0m \u001b[39m\"\"\"\u001b[39;00m\n\u001b[1;32m--> 337\u001b[0m obj, end \u001b[39m=\u001b[39m \u001b[39mself\u001b[39;49m\u001b[39m.\u001b[39;49mraw_decode(s, idx\u001b[39m=\u001b[39;49m_w(s, \u001b[39m0\u001b[39;49m)\u001b[39m.\u001b[39;49mend())\n\u001b[0;32m    338\u001b[0m end \u001b[39m=\u001b[39m _w(s, end)\u001b[39m.\u001b[39mend()\n",
      "File \u001b[1;32mc:\\Users\\fdmol\\AppData\\Local\\Programs\\Python\\Python311\\Lib\\json\\decoder.py:355\u001b[0m, in \u001b[0;36mJSONDecoder.raw_decode\u001b[1;34m(self, s, idx)\u001b[0m\n\u001b[0;32m    354\u001b[0m \u001b[39mexcept\u001b[39;00m \u001b[39mStopIteration\u001b[39;00m \u001b[39mas\u001b[39;00m err:\n\u001b[1;32m--> 355\u001b[0m     \u001b[39mraise\u001b[39;00m JSONDecodeError(\u001b[39m\"\u001b[39m\u001b[39mExpecting value\u001b[39m\u001b[39m\"\u001b[39m, s, err\u001b[39m.\u001b[39mvalue) \u001b[39mfrom\u001b[39;00m \u001b[39mNone\u001b[39;00m\n\u001b[0;32m    356\u001b[0m \u001b[39mreturn\u001b[39;00m obj, end\n",
      "\u001b[1;31mJSONDecodeError\u001b[0m: Expecting value: line 1 column 1 (char 0)",
      "\nDuring handling of the above exception, another exception occurred:\n",
      "\u001b[1;31mJSONDecodeError\u001b[0m                           Traceback (most recent call last)",
      "Cell \u001b[1;32mIn[2], line 2\u001b[0m\n\u001b[0;32m      1\u001b[0m epa_extractor \u001b[39m=\u001b[39m EPAExtractor()\n\u001b[1;32m----> 2\u001b[0m df_facilities \u001b[39m=\u001b[39m epa_extractor\u001b[39m.\u001b[39;49mget_facilities(year_to_query\u001b[39m=\u001b[39;49m\u001b[39m2021\u001b[39;49m)\n\u001b[0;32m      3\u001b[0m df_facilities\n",
      "File \u001b[1;32mc:\\Users\\fdmol\\Desktop\\CIF-2023\\LongBeach\\Inventory-Automation\\climate_inventory\\src\\extractions\\EPAFlight\\EPAExtractor.py:41\u001b[0m, in \u001b[0;36mEPAExtractor.get_facilities\u001b[1;34m(self, year_to_query)\u001b[0m\n\u001b[0;32m     36\u001b[0m payload_facilities[\u001b[39m\"\u001b[39m\u001b[39mreportingYear\u001b[39m\u001b[39m\"\u001b[39m] \u001b[39m=\u001b[39m \u001b[39mstr\u001b[39m(year_to_query)\n\u001b[0;32m     38\u001b[0m r_facilities \u001b[39m=\u001b[39m requests\u001b[39m.\u001b[39mpost(\n\u001b[0;32m     39\u001b[0m     \u001b[39mself\u001b[39m\u001b[39m.\u001b[39mFACILITIES_API, json\u001b[39m=\u001b[39m\u001b[39mself\u001b[39m\u001b[39m.\u001b[39mpayload_facilities, headers\u001b[39m=\u001b[39m\u001b[39mself\u001b[39m\u001b[39m.\u001b[39mheaders\n\u001b[0;32m     40\u001b[0m )\n\u001b[1;32m---> 41\u001b[0m content \u001b[39m=\u001b[39m r_facilities\u001b[39m.\u001b[39;49mjson()\n\u001b[0;32m     42\u001b[0m unit \u001b[39m=\u001b[39m content[\u001b[39m\"\u001b[39m\u001b[39munit\u001b[39m\u001b[39m\"\u001b[39m]\n\u001b[0;32m     43\u001b[0m year \u001b[39m=\u001b[39m content[\u001b[39m\"\u001b[39m\u001b[39myear\u001b[39m\u001b[39m\"\u001b[39m]\n",
      "File \u001b[1;32mc:\\Users\\fdmol\\AppData\\Local\\Programs\\Python\\Python311\\Lib\\site-packages\\requests\\models.py:975\u001b[0m, in \u001b[0;36mResponse.json\u001b[1;34m(self, **kwargs)\u001b[0m\n\u001b[0;32m    971\u001b[0m     \u001b[39mreturn\u001b[39;00m complexjson\u001b[39m.\u001b[39mloads(\u001b[39mself\u001b[39m\u001b[39m.\u001b[39mtext, \u001b[39m*\u001b[39m\u001b[39m*\u001b[39mkwargs)\n\u001b[0;32m    972\u001b[0m \u001b[39mexcept\u001b[39;00m JSONDecodeError \u001b[39mas\u001b[39;00m e:\n\u001b[0;32m    973\u001b[0m     \u001b[39m# Catch JSON-related errors and raise as requests.JSONDecodeError\u001b[39;00m\n\u001b[0;32m    974\u001b[0m     \u001b[39m# This aliases json.JSONDecodeError and simplejson.JSONDecodeError\u001b[39;00m\n\u001b[1;32m--> 975\u001b[0m     \u001b[39mraise\u001b[39;00m RequestsJSONDecodeError(e\u001b[39m.\u001b[39mmsg, e\u001b[39m.\u001b[39mdoc, e\u001b[39m.\u001b[39mpos)\n",
      "\u001b[1;31mJSONDecodeError\u001b[0m: Expecting value: line 1 column 1 (char 0)"
     ]
    }
   ],
   "source": [
    "epa_extractor = EPAExtractor()\n",
    "df_facilities = epa_extractor.get_facilities(year_to_query=2021)\n",
    "df_facilities"
   ]
  }
 ],
 "metadata": {
  "kernelspec": {
   "display_name": "base",
   "language": "python",
   "name": "python3"
  },
  "language_info": {
   "codemirror_mode": {
    "name": "ipython",
    "version": 3
   },
   "file_extension": ".py",
   "mimetype": "text/x-python",
   "name": "python",
   "nbconvert_exporter": "python",
   "pygments_lexer": "ipython3",
   "version": "3.11.3"
  },
  "orig_nbformat": 4
 },
 "nbformat": 4,
 "nbformat_minor": 2
}
