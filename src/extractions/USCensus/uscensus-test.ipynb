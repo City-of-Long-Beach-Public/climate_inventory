{
 "cells": [
  {
   "cell_type": "markdown",
   "metadata": {},
   "source": [
    "# US Census - Extraction"
   ]
  },
  {
   "cell_type": "markdown",
   "metadata": {},
   "source": [
    "### Import Libraries"
   ]
  },
  {
   "cell_type": "code",
   "execution_count": 18,
   "metadata": {},
   "outputs": [],
   "source": [
    "import requests\n",
    "import pandas as pd\n",
    "from bs4 import BeautifulSoup"
   ]
  },
  {
   "cell_type": "markdown",
   "metadata": {},
   "source": [
    "### Parameters"
   ]
  },
  {
   "cell_type": "code",
   "execution_count": 19,
   "metadata": {},
   "outputs": [],
   "source": [
    "URL = \"https://data.census.gov/table?q=B25040&g=160XX00US0643000&tid=ACSDT1Y2021.B25040\"\n",
    "API_METADATA = \"https://data.census.gov/api/search/metadata/table?id=ACSDT1Y2021.B25040&g=160XX00US0643000\"\n",
    "API_TABLE = \"https://data.census.gov/api/access/data/table?id=ACSDT1Y2021.B25040&g=160XX00US0643000\""
   ]
  },
  {
   "cell_type": "code",
   "execution_count": 3,
   "metadata": {},
   "outputs": [],
   "source": [
    "headers =  {\n",
    "    \"authority\": \"data.census.gov\",\n",
    "    \"method\": \"GET\",\n",
    "    \"path\": \"/table?q=B25040&g=160XX00US0643000&tid=ACSDT1Y2021.B25040\",\n",
    "    \"scheme\": \"https\",\n",
    "    \"Accept\": \"text/html,application/xhtml+xml,application/xml;q=0.9,image/avif,image/webp,image/apng,*/*;q=0.8,application/signed-exchange;v=b3;q=0.7\",\n",
    "    \"Accept-Encoding\": \"gzip, deflate, br\",\n",
    "    \"Accept-Language\": \"en-US,en;q=0.9\",\n",
    "    \"Cache-Control\": \"max-age=0\",\n",
    "    \"Sec-Ch-Ua\": \"\\\"Not.A/Brand\\\";v=\\\"8\\\", \\\"Chromium\\\";v=\\\"114\\\", \\\"Google Chrome\\\";v=\\\"114\\\"\",\n",
    "    \"Sec-Ch-Ua-Mobile\": \"?0\",\n",
    "    \"Sec-Ch-Ua-Platform\": \"\\\"Windows\\\"\",\n",
    "    \"Sec-Fetch-Dest\": \"document\",\n",
    "    \"Sec-Fetch-Mode\": \"navigate\",\n",
    "    \"Sec-Fetch-Site\": \"same-origin\",\n",
    "    \"Sec-Fetch-User\": \"?1\",\n",
    "    \"Upgrade-Insecure-Requests\": \"1\",\n",
    "    \"User-Agent\": \"Mozilla/5.0 (Windows NT 10.0; Win64; x64) AppleWebKit/537.36 (KHTML, like Gecko) Chrome/114.0.0.0 Safari/537.36\"\n",
    "}"
   ]
  },
  {
   "cell_type": "code",
   "execution_count": 23,
   "metadata": {},
   "outputs": [],
   "source": [
    "def get_metadata_content(API_METADATA, headers):\n",
    "    \"\"\"\n",
    "    Gets metadata content from API\n",
    "    \"\"\"\n",
    "    r = requests.get(API_METADATA, headers=headers)\n",
    "    metadata_content = r.json()\n",
    "    metadata_content = metadata_content['response']\n",
    "\n",
    "    return metadata_content"
   ]
  },
  {
   "cell_type": "code",
   "execution_count": 20,
   "metadata": {},
   "outputs": [],
   "source": [
    "def get_mapping_dict(metadata_content):\n",
    "    \"\"\"\n",
    "    Gets mapping dictionary from metadata content\n",
    "    \"\"\"\n",
    "    mapping_content = metadata_content['response']['metadataContent']['dimensions'][2]['categories']\n",
    "    # Note - M is for margin of error and E is for estimate\n",
    "    mapping_dict = {}\n",
    "\n",
    "    for item in mapping_content:\n",
    "        label = item['label']\n",
    "\n",
    "        corresponding_ids = item['item_mapping']\n",
    "        for corresponding_id in corresponding_ids:\n",
    "            if 'E' in corresponding_id:\n",
    "                mapping_dict[corresponding_id] = f\"{label} Estimate\"\n",
    "            else:\n",
    "                mapping_dict[corresponding_id] = f\"{label} Margin of Error\"\n",
    "\n",
    "    return mapping_dict"
   ]
  },
  {
   "cell_type": "markdown",
   "metadata": {},
   "source": [
    "### Tests"
   ]
  },
  {
   "cell_type": "code",
   "execution_count": 5,
   "metadata": {},
   "outputs": [
    {
     "data": {
      "text/plain": [
       "{'component': 'Detailed Tables',\n",
       " 'provider': 'ACS',\n",
       " 'vintage': '2021',\n",
       " 'dataCategory': 'AGGREGATE',\n",
       " 'name': 'ACS 1-Year Estimates Detailed Tables',\n",
       " 'program': 'American Community Survey',\n",
       " 'subProgram': '1-Year Estimates',\n",
       " 'dataset': 'ACSDT1Y2021',\n",
       " 'programShortLabel': 'ACS'}"
      ]
     },
     "execution_count": 5,
     "metadata": {},
     "output_type": "execute_result"
    }
   ],
   "source": [
    "metadata_content['response']['metadataContent']['dataset']"
   ]
  },
  {
   "cell_type": "code",
   "execution_count": 6,
   "metadata": {},
   "outputs": [
    {
     "data": {
      "text/plain": [
       "{'globalDimension': False,\n",
       " 'dimension_type': {'description': 'MEASURE', 'id': 'MEASURE'},\n",
       " 'id': 'ESTIMATE',\n",
       " 'categories': [{'orderNumber': '1',\n",
       "   'id': 'COLUMN1',\n",
       "   'label': 'Estimate',\n",
       "   'item_mapping': ['B25040_001E',\n",
       "    'B25040_002E',\n",
       "    'B25040_003E',\n",
       "    'B25040_004E',\n",
       "    'B25040_005E',\n",
       "    'B25040_006E',\n",
       "    'B25040_007E',\n",
       "    'B25040_008E',\n",
       "    'B25040_009E',\n",
       "    'B25040_010E']},\n",
       "  {'orderNumber': '2',\n",
       "   'id': 'COLUMN2',\n",
       "   'label': 'Margin of Error',\n",
       "   'item_mapping': ['B25040_001M',\n",
       "    'B25040_002M',\n",
       "    'B25040_003M',\n",
       "    'B25040_004M',\n",
       "    'B25040_005M',\n",
       "    'B25040_006M',\n",
       "    'B25040_007M',\n",
       "    'B25040_008M',\n",
       "    'B25040_009M',\n",
       "    'B25040_010M']}],\n",
       " 'axis': 'H',\n",
       " 'order_number': 2}"
      ]
     },
     "execution_count": 6,
     "metadata": {},
     "output_type": "execute_result"
    }
   ],
   "source": [
    "metadata_content['response']['metadataContent']['dimensions'][1]"
   ]
  },
  {
   "cell_type": "code",
   "execution_count": 22,
   "metadata": {},
   "outputs": [
    {
     "data": {
      "text/plain": [
       "{'B25040_001E': 'Total: Estimate',\n",
       " 'B25040_001M': 'Total: Margin of Error',\n",
       " 'B25040_002E': 'Utility gas Estimate',\n",
       " 'B25040_002M': 'Utility gas Margin of Error',\n",
       " 'B25040_003E': 'Bottled, tank, or LP gas Estimate',\n",
       " 'B25040_003M': 'Bottled, tank, or LP gas Margin of Error',\n",
       " 'B25040_004E': 'Electricity Estimate',\n",
       " 'B25040_004M': 'Electricity Margin of Error',\n",
       " 'B25040_005E': 'Fuel oil, kerosene, etc. Estimate',\n",
       " 'B25040_005M': 'Fuel oil, kerosene, etc. Margin of Error',\n",
       " 'B25040_006E': 'Coal or coke Estimate',\n",
       " 'B25040_006M': 'Coal or coke Margin of Error',\n",
       " 'B25040_007E': 'Wood Estimate',\n",
       " 'B25040_007M': 'Wood Margin of Error',\n",
       " 'B25040_008E': 'Solar energy Estimate',\n",
       " 'B25040_008M': 'Solar energy Margin of Error',\n",
       " 'B25040_009E': 'Other fuel Estimate',\n",
       " 'B25040_009M': 'Other fuel Margin of Error',\n",
       " 'B25040_010E': 'No fuel used Estimate',\n",
       " 'B25040_010M': 'No fuel used Margin of Error'}"
      ]
     },
     "execution_count": 22,
     "metadata": {},
     "output_type": "execute_result"
    }
   ],
   "source": [
    "mapping_dict = get_mapping_dict(metadata_content)\n",
    "mapping_dict"
   ]
  },
  {
   "cell_type": "code",
   "execution_count": 8,
   "metadata": {},
   "outputs": [],
   "source": [
    "r = requests.get(API_TABLE, headers=headers)\n",
    "table_content = r.json()['response']"
   ]
  },
  {
   "cell_type": "code",
   "execution_count": 17,
   "metadata": {},
   "outputs": [
    {
     "data": {
      "text/html": [
       "<div>\n",
       "<style scoped>\n",
       "    .dataframe tbody tr th:only-of-type {\n",
       "        vertical-align: middle;\n",
       "    }\n",
       "\n",
       "    .dataframe tbody tr th {\n",
       "        vertical-align: top;\n",
       "    }\n",
       "\n",
       "    .dataframe thead th {\n",
       "        text-align: right;\n",
       "    }\n",
       "</style>\n",
       "<table border=\"1\" class=\"dataframe\">\n",
       "  <thead>\n",
       "    <tr style=\"text-align: right;\">\n",
       "      <th></th>\n",
       "      <th>labels</th>\n",
       "      <th>data</th>\n",
       "    </tr>\n",
       "  </thead>\n",
       "  <tbody>\n",
       "    <tr>\n",
       "      <th>0</th>\n",
       "      <td>Wood Margin of Error</td>\n",
       "      <td>96</td>\n",
       "    </tr>\n",
       "    <tr>\n",
       "      <th>1</th>\n",
       "      <td>Total: Estimate</td>\n",
       "      <td>172599</td>\n",
       "    </tr>\n",
       "    <tr>\n",
       "      <th>2</th>\n",
       "      <td>Other fuel Margin of Error</td>\n",
       "      <td>186</td>\n",
       "    </tr>\n",
       "    <tr>\n",
       "      <th>3</th>\n",
       "      <td>Bottled, tank, or LP gas Estimate</td>\n",
       "      <td>1688</td>\n",
       "    </tr>\n",
       "    <tr>\n",
       "      <th>4</th>\n",
       "      <td>Fuel oil, kerosene, etc. Estimate</td>\n",
       "      <td>106</td>\n",
       "    </tr>\n",
       "    <tr>\n",
       "      <th>5</th>\n",
       "      <td>Wood Estimate</td>\n",
       "      <td>56</td>\n",
       "    </tr>\n",
       "    <tr>\n",
       "      <th>6</th>\n",
       "      <td>Other fuel Estimate</td>\n",
       "      <td>207</td>\n",
       "    </tr>\n",
       "    <tr>\n",
       "      <th>22</th>\n",
       "      <td>Total: Margin of Error</td>\n",
       "      <td>4170</td>\n",
       "    </tr>\n",
       "    <tr>\n",
       "      <th>25</th>\n",
       "      <td>Bottled, tank, or LP gas Margin of Error</td>\n",
       "      <td>522</td>\n",
       "    </tr>\n",
       "    <tr>\n",
       "      <th>27</th>\n",
       "      <td>Fuel oil, kerosene, etc. Margin of Error</td>\n",
       "      <td>128</td>\n",
       "    </tr>\n",
       "    <tr>\n",
       "      <th>28</th>\n",
       "      <td>Coal or coke Margin of Error</td>\n",
       "      <td>218</td>\n",
       "    </tr>\n",
       "    <tr>\n",
       "      <th>29</th>\n",
       "      <td>No fuel used Estimate</td>\n",
       "      <td>11943</td>\n",
       "    </tr>\n",
       "    <tr>\n",
       "      <th>30</th>\n",
       "      <td>Solar energy Margin of Error</td>\n",
       "      <td>428</td>\n",
       "    </tr>\n",
       "    <tr>\n",
       "      <th>31</th>\n",
       "      <td>Utility gas Estimate</td>\n",
       "      <td>107957</td>\n",
       "    </tr>\n",
       "    <tr>\n",
       "      <th>32</th>\n",
       "      <td>Electricity Estimate</td>\n",
       "      <td>49934</td>\n",
       "    </tr>\n",
       "    <tr>\n",
       "      <th>33</th>\n",
       "      <td>Coal or coke Estimate</td>\n",
       "      <td>0</td>\n",
       "    </tr>\n",
       "    <tr>\n",
       "      <th>34</th>\n",
       "      <td>Solar energy Estimate</td>\n",
       "      <td>708</td>\n",
       "    </tr>\n",
       "    <tr>\n",
       "      <th>36</th>\n",
       "      <td>NAME</td>\n",
       "      <td>Long Beach city, California</td>\n",
       "    </tr>\n",
       "    <tr>\n",
       "      <th>37</th>\n",
       "      <td>GEO_ID</td>\n",
       "      <td>1600000US0643000</td>\n",
       "    </tr>\n",
       "    <tr>\n",
       "      <th>39</th>\n",
       "      <td>No fuel used Margin of Error</td>\n",
       "      <td>1910</td>\n",
       "    </tr>\n",
       "    <tr>\n",
       "      <th>40</th>\n",
       "      <td>Utility gas Margin of Error</td>\n",
       "      <td>4059</td>\n",
       "    </tr>\n",
       "    <tr>\n",
       "      <th>41</th>\n",
       "      <td>Electricity Margin of Error</td>\n",
       "      <td>3409</td>\n",
       "    </tr>\n",
       "  </tbody>\n",
       "</table>\n",
       "</div>"
      ],
      "text/plain": [
       "                                      labels                         data\n",
       "0                       Wood Margin of Error                           96\n",
       "1                            Total: Estimate                       172599\n",
       "2                 Other fuel Margin of Error                          186\n",
       "3          Bottled, tank, or LP gas Estimate                         1688\n",
       "4          Fuel oil, kerosene, etc. Estimate                          106\n",
       "5                              Wood Estimate                           56\n",
       "6                        Other fuel Estimate                          207\n",
       "22                    Total: Margin of Error                         4170\n",
       "25  Bottled, tank, or LP gas Margin of Error                          522\n",
       "27  Fuel oil, kerosene, etc. Margin of Error                          128\n",
       "28              Coal or coke Margin of Error                          218\n",
       "29                     No fuel used Estimate                        11943\n",
       "30              Solar energy Margin of Error                          428\n",
       "31                      Utility gas Estimate                       107957\n",
       "32                      Electricity Estimate                        49934\n",
       "33                     Coal or coke Estimate                            0\n",
       "34                     Solar energy Estimate                          708\n",
       "36                                      NAME  Long Beach city, California\n",
       "37                                    GEO_ID             1600000US0643000\n",
       "39              No fuel used Margin of Error                         1910\n",
       "40               Utility gas Margin of Error                         4059\n",
       "41               Electricity Margin of Error                         3409"
      ]
     },
     "execution_count": 17,
     "metadata": {},
     "output_type": "execute_result"
    }
   ],
   "source": [
    "labels = table_content['data'][0]\n",
    "data = table_content['data'][1]\n",
    "\n",
    "df = pd.DataFrame.from_dict({\"labels\": labels, \"data\": data})\n",
    "df.replace(mapping_dict, inplace=True)\n",
    "df.dropna(inplace=True)\n",
    "df"
   ]
  }
 ],
 "metadata": {
  "kernelspec": {
   "display_name": "Python 3",
   "language": "python",
   "name": "python3"
  },
  "language_info": {
   "codemirror_mode": {
    "name": "ipython",
    "version": 3
   },
   "file_extension": ".py",
   "mimetype": "text/x-python",
   "name": "python",
   "nbconvert_exporter": "python",
   "pygments_lexer": "ipython3",
   "version": "3.11.3"
  },
  "orig_nbformat": 4
 },
 "nbformat": 4,
 "nbformat_minor": 2
}
