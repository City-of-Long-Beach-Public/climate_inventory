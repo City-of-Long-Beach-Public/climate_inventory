{
 "cells": [
  {
   "cell_type": "markdown",
   "metadata": {},
   "source": [
    "# US Census - Extraction"
   ]
  },
  {
   "cell_type": "markdown",
   "metadata": {},
   "source": [
    "### Import Libraries"
   ]
  },
  {
   "cell_type": "code",
   "execution_count": 36,
   "metadata": {},
   "outputs": [],
   "source": [
    "import requests\n",
    "import pandas as pd\n"
   ]
  },
  {
   "cell_type": "markdown",
   "metadata": {},
   "source": [
    "### Parameters"
   ]
  },
  {
   "cell_type": "code",
   "execution_count": 19,
   "metadata": {},
   "outputs": [],
   "source": [
    "URL = \"https://data.census.gov/table?q=B25040&g=160XX00US0643000&tid=ACSDT1Y2021.B25040\"\n",
    "API_METADATA = \"https://data.census.gov/api/search/metadata/table?id=ACSDT1Y2021.B25040&g=160XX00US0643000\"\n",
    "API_TABLE = \"https://data.census.gov/api/access/data/table?id=ACSDT1Y2021.B25040&g=160XX00US0643000\""
   ]
  },
  {
   "cell_type": "code",
   "execution_count": 3,
   "metadata": {},
   "outputs": [],
   "source": [
    "headers =  {\n",
    "    \"authority\": \"data.census.gov\",\n",
    "    \"method\": \"GET\",\n",
    "    \"path\": \"/table?q=B25040&g=160XX00US0643000&tid=ACSDT1Y2021.B25040\",\n",
    "    \"scheme\": \"https\",\n",
    "    \"Accept\": \"text/html,application/xhtml+xml,application/xml;q=0.9,image/avif,image/webp,image/apng,*/*;q=0.8,application/signed-exchange;v=b3;q=0.7\",\n",
    "    \"Accept-Encoding\": \"gzip, deflate, br\",\n",
    "    \"Accept-Language\": \"en-US,en;q=0.9\",\n",
    "    \"Cache-Control\": \"max-age=0\",\n",
    "    \"Sec-Ch-Ua\": \"\\\"Not.A/Brand\\\";v=\\\"8\\\", \\\"Chromium\\\";v=\\\"114\\\", \\\"Google Chrome\\\";v=\\\"114\\\"\",\n",
    "    \"Sec-Ch-Ua-Mobile\": \"?0\",\n",
    "    \"Sec-Ch-Ua-Platform\": \"\\\"Windows\\\"\",\n",
    "    \"Sec-Fetch-Dest\": \"document\",\n",
    "    \"Sec-Fetch-Mode\": \"navigate\",\n",
    "    \"Sec-Fetch-Site\": \"same-origin\",\n",
    "    \"Sec-Fetch-User\": \"?1\",\n",
    "    \"Upgrade-Insecure-Requests\": \"1\",\n",
    "    \"User-Agent\": \"Mozilla/5.0 (Windows NT 10.0; Win64; x64) AppleWebKit/537.36 (KHTML, like Gecko) Chrome/114.0.0.0 Safari/537.36\"\n",
    "}"
   ]
  },
  {
   "cell_type": "code",
   "execution_count": 29,
   "metadata": {},
   "outputs": [],
   "source": [
    "def get_metadata_content(API_METADATA, headers):\n",
    "    \"\"\"\n",
    "    Gets metadata content from API\n",
    "    \"\"\"\n",
    "    r = requests.get(API_METADATA, headers=headers)\n",
    "    metadata_content = r.json()\n",
    "\n",
    "    return metadata_content"
   ]
  },
  {
   "cell_type": "code",
   "execution_count": 45,
   "metadata": {},
   "outputs": [],
   "source": [
    "def get_mapping_dict(metadata_content):\n",
    "    \"\"\"\n",
    "    Gets mapping dictionary from metadata content\n",
    "    \"\"\"\n",
    "    mapping_content = metadata_content['response']['metadataContent']['dimensions'][2]['categories']\n",
    "    # Note - M is for margin of error and E is for estimate\n",
    "    mapping_dict = {}\n",
    "\n",
    "    for item in mapping_content:\n",
    "        label = item['label']\n",
    "\n",
    "        corresponding_ids = item['item_mapping']\n",
    "        for corresponding_id in corresponding_ids:\n",
    "            if 'E' in corresponding_id:\n",
    "                mapping_dict[corresponding_id] = f\"{label}-Estimate\"\n",
    "            else:\n",
    "                mapping_dict[corresponding_id] = f\"{label}-Margin of Error\"\n",
    "\n",
    "    return mapping_dict"
   ]
  },
  {
   "cell_type": "code",
   "execution_count": 61,
   "metadata": {},
   "outputs": [],
   "source": [
    "def get_data_table(API_TABLE, headers, mapping_dict):\n",
    "    \"\"\"\n",
    "    Gets data table from API and parses the data\n",
    "    into a clean dataframe\n",
    "    \"\"\"\n",
    "    r = requests.get(API_TABLE, headers=headers)\n",
    "    table_content = r.json()['response']\n",
    "\n",
    "    labels = table_content['data'][0]\n",
    "    data = table_content['data'][1]\n",
    "\n",
    "    df = pd.DataFrame.from_dict({\"labels\": labels, \"data\": data})\n",
    "    df = df.loc[df['labels'].isin(mapping_dict.keys())]\n",
    "    df.replace(mapping_dict, inplace=True)\n",
    "    df.dropna(inplace=True)\n",
    "\n",
    "    # Split 'labels' into 'label' and 'metric'\n",
    "    df[['label','metric']] = df['labels'].str.rsplit('-', n=1, expand=True)\n",
    "\n",
    "    # Pivot to get 'Estimate' and 'Margin of Error' as separate columns\n",
    "    df_pivot = df.pivot(index='label', columns='metric', values='data')\n",
    "\n",
    "    # Reset index\n",
    "    df_pivot = df_pivot.reset_index()\n",
    "\n",
    "    # Rename columns\n",
    "    df_pivot.columns.name = ''\n",
    "    df_pivot.rename(columns={'Estimate': 'estimate', 'Margin of Error': 'margin of error'}, inplace=True)\n",
    "\n",
    "    return df_pivot"
   ]
  },
  {
   "cell_type": "markdown",
   "metadata": {},
   "source": [
    "### Tests"
   ]
  },
  {
   "cell_type": "code",
   "execution_count": 46,
   "metadata": {},
   "outputs": [],
   "source": [
    "metadata_content = get_metadata_content(API_METADATA, headers)"
   ]
  },
  {
   "cell_type": "code",
   "execution_count": 52,
   "metadata": {},
   "outputs": [],
   "source": [
    "dataset_info = metadata_content['response']['metadataContent']['dataset']"
   ]
  },
  {
   "cell_type": "code",
   "execution_count": 62,
   "metadata": {},
   "outputs": [],
   "source": [
    "mapping_dict = get_mapping_dict(metadata_content)"
   ]
  },
  {
   "cell_type": "code",
   "execution_count": 64,
   "metadata": {},
   "outputs": [],
   "source": [
    "df = get_data_table(API_TABLE, headers, mapping_dict)"
   ]
  },
  {
   "cell_type": "code",
   "execution_count": 65,
   "metadata": {},
   "outputs": [
    {
     "data": {
      "text/html": [
       "<div>\n",
       "<style scoped>\n",
       "    .dataframe tbody tr th:only-of-type {\n",
       "        vertical-align: middle;\n",
       "    }\n",
       "\n",
       "    .dataframe tbody tr th {\n",
       "        vertical-align: top;\n",
       "    }\n",
       "\n",
       "    .dataframe thead th {\n",
       "        text-align: right;\n",
       "    }\n",
       "</style>\n",
       "<table border=\"1\" class=\"dataframe\">\n",
       "  <thead>\n",
       "    <tr style=\"text-align: right;\">\n",
       "      <th></th>\n",
       "      <th>label</th>\n",
       "      <th>estimate</th>\n",
       "      <th>margin of error</th>\n",
       "    </tr>\n",
       "  </thead>\n",
       "  <tbody>\n",
       "    <tr>\n",
       "      <th>0</th>\n",
       "      <td>Bottled, tank, or LP gas</td>\n",
       "      <td>1688</td>\n",
       "      <td>522</td>\n",
       "    </tr>\n",
       "    <tr>\n",
       "      <th>1</th>\n",
       "      <td>Coal or coke</td>\n",
       "      <td>0</td>\n",
       "      <td>218</td>\n",
       "    </tr>\n",
       "    <tr>\n",
       "      <th>2</th>\n",
       "      <td>Electricity</td>\n",
       "      <td>49934</td>\n",
       "      <td>3409</td>\n",
       "    </tr>\n",
       "    <tr>\n",
       "      <th>3</th>\n",
       "      <td>Fuel oil, kerosene, etc.</td>\n",
       "      <td>106</td>\n",
       "      <td>128</td>\n",
       "    </tr>\n",
       "    <tr>\n",
       "      <th>4</th>\n",
       "      <td>No fuel used</td>\n",
       "      <td>11943</td>\n",
       "      <td>1910</td>\n",
       "    </tr>\n",
       "    <tr>\n",
       "      <th>5</th>\n",
       "      <td>Other fuel</td>\n",
       "      <td>207</td>\n",
       "      <td>186</td>\n",
       "    </tr>\n",
       "    <tr>\n",
       "      <th>6</th>\n",
       "      <td>Solar energy</td>\n",
       "      <td>708</td>\n",
       "      <td>428</td>\n",
       "    </tr>\n",
       "    <tr>\n",
       "      <th>7</th>\n",
       "      <td>Total:</td>\n",
       "      <td>172599</td>\n",
       "      <td>4170</td>\n",
       "    </tr>\n",
       "    <tr>\n",
       "      <th>8</th>\n",
       "      <td>Utility gas</td>\n",
       "      <td>107957</td>\n",
       "      <td>4059</td>\n",
       "    </tr>\n",
       "    <tr>\n",
       "      <th>9</th>\n",
       "      <td>Wood</td>\n",
       "      <td>56</td>\n",
       "      <td>96</td>\n",
       "    </tr>\n",
       "  </tbody>\n",
       "</table>\n",
       "</div>"
      ],
      "text/plain": [
       "                      label estimate margin of error\n",
       "0  Bottled, tank, or LP gas     1688             522\n",
       "1              Coal or coke        0             218\n",
       "2               Electricity    49934            3409\n",
       "3  Fuel oil, kerosene, etc.      106             128\n",
       "4              No fuel used    11943            1910\n",
       "5                Other fuel      207             186\n",
       "6              Solar energy      708             428\n",
       "7                    Total:   172599            4170\n",
       "8               Utility gas   107957            4059\n",
       "9                      Wood       56              96"
      ]
     },
     "execution_count": 65,
     "metadata": {},
     "output_type": "execute_result"
    }
   ],
   "source": [
    "df"
   ]
  }
 ],
 "metadata": {
  "kernelspec": {
   "display_name": "Python 3",
   "language": "python",
   "name": "python3"
  },
  "language_info": {
   "codemirror_mode": {
    "name": "ipython",
    "version": 3
   },
   "file_extension": ".py",
   "mimetype": "text/x-python",
   "name": "python",
   "nbconvert_exporter": "python",
   "pygments_lexer": "ipython3",
   "version": "3.11.3"
  },
  "orig_nbformat": 4
 },
 "nbformat": 4,
 "nbformat_minor": 2
}
