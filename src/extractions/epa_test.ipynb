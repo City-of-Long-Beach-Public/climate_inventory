{
 "cells": [
  {
   "attachments": {},
   "cell_type": "markdown",
   "metadata": {},
   "source": [
    "# EPA - Flight Data Base Tests"
   ]
  },
  {
   "cell_type": "code",
   "execution_count": 1,
   "metadata": {},
   "outputs": [],
   "source": [
    "import requests"
   ]
  },
  {
   "cell_type": "code",
   "execution_count": 4,
   "metadata": {},
   "outputs": [
    {
     "data": {
      "text/html": [
       "\n",
       "                <script type=\"application/javascript\" id=\"jupyter_black\">\n",
       "                (function() {\n",
       "                    if (window.IPython === undefined) {\n",
       "                        return\n",
       "                    }\n",
       "                    var msg = \"WARNING: it looks like you might have loaded \" +\n",
       "                        \"jupyter_black in a non-lab notebook with \" +\n",
       "                        \"`is_lab=True`. Please double check, and if \" +\n",
       "                        \"loading with `%load_ext` please review the README!\"\n",
       "                    console.log(msg)\n",
       "                    alert(msg)\n",
       "                })()\n",
       "                </script>\n",
       "                "
      ],
      "text/plain": [
       "<IPython.core.display.HTML object>"
      ]
     },
     "metadata": {},
     "output_type": "display_data"
    }
   ],
   "source": [
    "%load_ext jupyter_black"
   ]
  },
  {
   "attachments": {},
   "cell_type": "markdown",
   "metadata": {},
   "source": [
    "#### Webscraping tests"
   ]
  },
  {
   "cell_type": "code",
   "execution_count": 5,
   "metadata": {},
   "outputs": [],
   "source": [
    "SERVICE_API = \"https://ghgdata.epa.gov/ghgp/service/populateSectorDashboard/\""
   ]
  },
  {
   "cell_type": "code",
   "execution_count": 8,
   "metadata": {},
   "outputs": [],
   "source": [
    "headers = {\n",
    "    \"Host\": \"ghgdata.epa.gov\",\n",
    "    \"Origin\": \"https://ghgdata.epa.gov\",\n",
    "    \"Referer\": \"https://ghgdata.epa.gov/ghgp/main.do\",\n",
    "    \"Sec-Ch-Ua\": '\"Not.A/Brand\";v=\"8\", \"Chromium\";v=\"114\", \"Google Chrome\";v=\"114\"',\n",
    "    \"Sec-Ch-Ua-Mobile\": \"?0\",\n",
    "    \"Sec-Ch-Ua-Platform\": '\"Windows\"',\n",
    "    \"Sec-Fetch-Dest\": \"empty\",\n",
    "    \"Sec-Fetch-Mode\": \"cors\",\n",
    "    \"Sec-Fetch-Site\": \"same-origin\",\n",
    "    \"User-Agent\": \"Mozilla/5.0 (Windows NT 10.0; Win64; x64) AppleWebKit/537.36 (KHTML, like Gecko) Chrome/114.0.0.0 Safari/537.36\",\n",
    "    \"X-Requested-With\": \"XMLHttpRequest\",\n",
    "}"
   ]
  },
  {
   "cell_type": "code",
   "execution_count": 9,
   "metadata": {},
   "outputs": [],
   "source": [
    "payload = {\n",
    "    \"trend\": \"current\",\n",
    "    \"dataSource\": \"E\",\n",
    "    \"reportingYear\": \"2021\",\n",
    "    \"currentYear\": \"2021\",\n",
    "    \"query\": \"Long Beach\",\n",
    "    \"lowE\": \"-20000\",\n",
    "    \"highE\": \"23000000\",\n",
    "    \"state\": \"CA\",\n",
    "    \"countyFips\": \"\",\n",
    "    \"msaCode\": \"\",\n",
    "    \"stateLevel\": \"0\",\n",
    "    \"basin\": \"\",\n",
    "    \"gases\": [\n",
    "        \"true\",\n",
    "        \"true\",\n",
    "        \"true\",\n",
    "        \"true\",\n",
    "        \"true\",\n",
    "        \"false\",\n",
    "        \"true\",\n",
    "        \"true\",\n",
    "        \"true\",\n",
    "        \"true\",\n",
    "        \"true\",\n",
    "        \"true\",\n",
    "    ],\n",
    "    \"sectors\": [\n",
    "        [\"true\"],\n",
    "        [\"true\", \"true\", \"true\", \"true\", \"true\"],\n",
    "        [\"true\", \"true\", \"true\", \"true\", \"true\", \"true\", \"true\", \"true\"],\n",
    "        [\"true\", \"true\", \"true\", \"true\", \"true\", \"true\"],\n",
    "        [\"true\"],\n",
    "        [\"true\", \"true\", \"true\"],\n",
    "        [\n",
    "            \"true\",\n",
    "            \"true\",\n",
    "            \"true\",\n",
    "            \"true\",\n",
    "            \"true\",\n",
    "            \"true\",\n",
    "            \"true\",\n",
    "            \"true\",\n",
    "            \"true\",\n",
    "            \"true\",\n",
    "            \"true\",\n",
    "            \"true\",\n",
    "        ],\n",
    "        [\n",
    "            \"true\",\n",
    "            \"true\",\n",
    "            \"true\",\n",
    "            \"true\",\n",
    "            \"true\",\n",
    "            \"true\",\n",
    "            \"true\",\n",
    "            \"true\",\n",
    "            \"true\",\n",
    "            \"true\",\n",
    "            \"true\",\n",
    "        ],\n",
    "        [\n",
    "            \"true\",\n",
    "            \"true\",\n",
    "            \"true\",\n",
    "            \"true\",\n",
    "            \"true\",\n",
    "            \"true\",\n",
    "            \"true\",\n",
    "            \"true\",\n",
    "            \"true\",\n",
    "            \"true\",\n",
    "            \"true\",\n",
    "            \"true\",\n",
    "        ],\n",
    "    ],\n",
    "    \"sortOrder\": \"0\",\n",
    "    \"supplierSector\": \"0\",\n",
    "    \"reportingStatus\": \"ALL\",\n",
    "    \"searchOptions\": \"11001100\",\n",
    "    \"injectionSelection\": \"11\",\n",
    "    \"emissionsType\": \"\",\n",
    "    \"tribalLandId\": \"\",\n",
    "    \"pageNumber\": \"0\",\n",
    "    \"overlayLevel\": \"0\",\n",
    "    \"visType\": \"map\",\n",
    "}"
   ]
  },
  {
   "cell_type": "code",
   "execution_count": 13,
   "metadata": {},
   "outputs": [],
   "source": [
    "payload_2 = {\n",
    "    \"trend\": \"current\",\n",
    "    \"dataSource\": \"E\",\n",
    "    \"reportingYear\": \"2021\",\n",
    "    \"currentYear\": \"2021\",\n",
    "    \"query\": \"\",\n",
    "    \"lowE\": \"-20000\",\n",
    "    \"highE\": \"23000000\",\n",
    "    \"state\": \"\",\n",
    "    \"countyFips\": \"\",\n",
    "    \"msaCode\": \"\",\n",
    "    \"stateLevel\": \"0\",\n",
    "    \"basin\": \"\",\n",
    "    \"gases\": [\n",
    "        \"true\",\n",
    "        \"true\",\n",
    "        \"true\",\n",
    "        \"true\",\n",
    "        \"true\",\n",
    "        \"false\",\n",
    "        \"true\",\n",
    "        \"true\",\n",
    "        \"true\",\n",
    "        \"true\",\n",
    "        \"true\",\n",
    "        \"true\",\n",
    "    ],\n",
    "    \"sectors\": [\n",
    "        [\"true\"],\n",
    "        [\"true\", \"true\", \"true\", \"true\", \"true\"],\n",
    "        [\"true\", \"true\", \"true\", \"true\", \"true\", \"true\", \"true\", \"true\"],\n",
    "        [\"true\", \"true\", \"true\", \"true\", \"true\", \"true\"],\n",
    "        [\"true\"],\n",
    "        [\"true\", \"true\", \"true\"],\n",
    "        [\n",
    "            \"true\",\n",
    "            \"true\",\n",
    "            \"true\",\n",
    "            \"true\",\n",
    "            \"true\",\n",
    "            \"true\",\n",
    "            \"true\",\n",
    "            \"true\",\n",
    "            \"true\",\n",
    "            \"true\",\n",
    "            \"true\",\n",
    "            \"true\",\n",
    "        ],\n",
    "        [\n",
    "            \"true\",\n",
    "            \"true\",\n",
    "            \"true\",\n",
    "            \"true\",\n",
    "            \"true\",\n",
    "            \"true\",\n",
    "            \"true\",\n",
    "            \"true\",\n",
    "            \"true\",\n",
    "            \"true\",\n",
    "            \"true\",\n",
    "        ],\n",
    "        [\n",
    "            \"true\",\n",
    "            \"true\",\n",
    "            \"true\",\n",
    "            \"true\",\n",
    "            \"true\",\n",
    "            \"true\",\n",
    "            \"true\",\n",
    "            \"true\",\n",
    "            \"true\",\n",
    "            \"true\",\n",
    "            \"true\",\n",
    "            \"true\",\n",
    "        ],\n",
    "    ],\n",
    "    \"sortOrder\": \"0\",\n",
    "    \"supplierSector\": 0,\n",
    "    \"reportingStatus\": \"ALL\",\n",
    "    \"searchOptions\": \"11001100\",\n",
    "    \"injectionSelection\": 11,\n",
    "    \"emissionsType\": \"\",\n",
    "    \"tribalLandId\": \"\",\n",
    "    \"pageNumber\": 0,\n",
    "    \"overlayLevel\": 0,\n",
    "    \"visType\": \"map\",\n",
    "}"
   ]
  },
  {
   "cell_type": "code",
   "execution_count": 14,
   "metadata": {},
   "outputs": [],
   "source": [
    "r = requests.post(SERVICE_API, json=payload, headers=headers)"
   ]
  },
  {
   "cell_type": "code",
   "execution_count": 16,
   "metadata": {},
   "outputs": [],
   "source": [
    "r_2 = requests.post(SERVICE_API, json=payload_2, headers=headers)"
   ]
  },
  {
   "cell_type": "code",
   "execution_count": 17,
   "metadata": {},
   "outputs": [
    {
     "data": {
      "text/plain": [
       "{'unit': 'Metric Tons',\n",
       " 'values': [2579823,\n",
       "  3,\n",
       "  141839,\n",
       "  1,\n",
       "  0,\n",
       "  0,\n",
       "  37114,\n",
       "  1,\n",
       "  0,\n",
       "  0,\n",
       "  0,\n",
       "  0,\n",
       "  0,\n",
       "  0,\n",
       "  0,\n",
       "  0,\n",
       "  0,\n",
       "  0,\n",
       "  0,\n",
       "  5,\n",
       "  2758776]}"
      ]
     },
     "execution_count": 17,
     "metadata": {},
     "output_type": "execute_result"
    }
   ],
   "source": [
    "r.json()"
   ]
  },
  {
   "cell_type": "code",
   "execution_count": 18,
   "metadata": {},
   "outputs": [
    {
     "data": {
      "text/plain": [
       "{'unit': 'Million Metric Tons',\n",
       " 'values': [1589,\n",
       "  1326,\n",
       "  103,\n",
       "  1460,\n",
       "  82,\n",
       "  299,\n",
       "  114,\n",
       "  373,\n",
       "  165,\n",
       "  137,\n",
       "  35,\n",
       "  214,\n",
       "  186,\n",
       "  459,\n",
       "  121,\n",
       "  1304,\n",
       "  312,\n",
       "  2379,\n",
       "  0,\n",
       "  7608,\n",
       "  2708]}"
      ]
     },
     "execution_count": 18,
     "metadata": {},
     "output_type": "execute_result"
    }
   ],
   "source": [
    "r_2.json()"
   ]
  }
 ],
 "metadata": {
  "kernelspec": {
   "display_name": "base",
   "language": "python",
   "name": "python3"
  },
  "language_info": {
   "codemirror_mode": {
    "name": "ipython",
    "version": 3
   },
   "file_extension": ".py",
   "mimetype": "text/x-python",
   "name": "python",
   "nbconvert_exporter": "python",
   "pygments_lexer": "ipython3",
   "version": "3.11.3"
  },
  "orig_nbformat": 4
 },
 "nbformat": 4,
 "nbformat_minor": 2
}
