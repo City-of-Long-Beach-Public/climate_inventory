{
 "cells": [
  {
   "cell_type": "markdown",
   "metadata": {},
   "source": [
    "# California Air Resources Board (CARB)"
   ]
  },
  {
   "cell_type": "code",
   "execution_count": 2,
   "metadata": {},
   "outputs": [],
   "source": [
    "import requests\n",
    "import pandas as pd\n",
    "from io import BytesIO\n",
    "from bs4 import BeautifulSoup"
   ]
  },
  {
   "cell_type": "markdown",
   "metadata": {},
   "source": [
    "### Parameters"
   ]
  },
  {
   "cell_type": "code",
   "execution_count": 3,
   "metadata": {},
   "outputs": [],
   "source": [
    "URL = \"https://ww2.arb.ca.gov/mrr-data\"\n",
    "\n",
    "headers = {\n",
    "    \"Authority\": \"ww2.arb.ca.gov\",\n",
    "    \"Method\": \"GET\",\n",
    "    \"Path\": \"/mrr-data\",\n",
    "    \"Scheme\": \"https\",\n",
    "    \"Accept\": \"text/html,application/xhtml+xml,application/xml;q=0.9,image/avif,image/webp,image/apng,*/*;q=0.8,application/signed-exchange;v=b3;q=0.7\",\n",
    "    \"Accept-Encoding\": \"gzip, deflate, br\",\n",
    "    \"Accept-Language\": \"en-US,en;q=0.9\",\n",
    "    \"Cache-Control\": \"max-age=0\",\n",
    "    \"If-None-Match\": \"1689111602\",\n",
    "    \"Sec-Ch-Ua\": '\"Not.A/Brand\";v=\"8\", \"Chromium\";v=\"114\", \"Google Chrome\";v=\"114\"',\n",
    "    \"Sec-Ch-Ua-Mobile\": \"?0\",\n",
    "    \"Sec-Ch-Ua-Platform\": '\"Windows\"',\n",
    "    \"Sec-Fetch-Dest\": \"document\",\n",
    "    \"Sec-Fetch-Mode\": \"navigate\",\n",
    "    \"Sec-Fetch-Site\": \"cross-site\",\n",
    "    \"Sec-Fetch-User\": \"?1\",\n",
    "    \"Upgrade-Insecure-Requests\": \"1\",\n",
    "    \"User-Agent\": \"Mozilla/5.0 (Windows NT 10.0; Win64; x64) AppleWebKit/537.36 (KHTML, like Gecko) Chrome/114.0.0.0 Safari/537.36\"\n",
    "}\n"
   ]
  },
  {
   "cell_type": "markdown",
   "metadata": {},
   "source": [
    "### Tests"
   ]
  },
  {
   "cell_type": "code",
   "execution_count": 4,
   "metadata": {},
   "outputs": [],
   "source": [
    "r = requests.get(URL, headers=headers)"
   ]
  },
  {
   "cell_type": "code",
   "execution_count": 5,
   "metadata": {},
   "outputs": [],
   "source": [
    "soup = BeautifulSoup(r.content, \"html.parser\")\n",
    "soup\n",
    "# Get all hrefs and their text\n",
    "href_dicts = []\n",
    "hrefs = soup.find_all(\"a\")\n",
    "for href in hrefs:\n",
    "    href_dict = {}\n",
    "    text=  href.text\n",
    "    url = href.get(\"href\")\n",
    "\n",
    "    if \"xls\" in url:     \n",
    "        href_dict[\"name\"] = text\n",
    "        href_dict[\"url\"] = f\"https:{url}\" \n",
    "\n",
    "        href_dicts.append(href_dict)\n",
    "    "
   ]
  },
  {
   "cell_type": "code",
   "execution_count": 6,
   "metadata": {},
   "outputs": [],
   "source": [
    "urls_df = pd.DataFrame.from_dict(href_dicts)"
   ]
  },
  {
   "cell_type": "markdown",
   "metadata": {},
   "source": [
    "### Access one of the files"
   ]
  },
  {
   "cell_type": "code",
   "execution_count": 14,
   "metadata": {},
   "outputs": [],
   "source": [
    "xlsx_urls = urls_df[\"url\"].tolist()"
   ]
  },
  {
   "cell_type": "code",
   "execution_count": 15,
   "metadata": {},
   "outputs": [
    {
     "ename": "NameError",
     "evalue": "name 'xlsx_urls' is not defined",
     "output_type": "error",
     "traceback": [
      "\u001b[1;31m---------------------------------------------------------------------------\u001b[0m",
      "\u001b[1;31mNameError\u001b[0m                                 Traceback (most recent call last)",
      "Cell \u001b[1;32mIn[15], line 3\u001b[0m\n\u001b[0;32m      1\u001b[0m mega_df \u001b[39m=\u001b[39m pd\u001b[39m.\u001b[39mDataFrame([])\n\u001b[1;32m----> 3\u001b[0m \u001b[39mfor\u001b[39;00m xlsx_url \u001b[39min\u001b[39;00m xlsx_urls:\n\u001b[0;32m      5\u001b[0m     response \u001b[39m=\u001b[39m requests\u001b[39m.\u001b[39mget(xlsx_url)\n\u001b[0;32m      6\u001b[0m     xls_file \u001b[39m=\u001b[39m pd\u001b[39m.\u001b[39mExcelFile(BytesIO(response\u001b[39m.\u001b[39mcontent))\n",
      "\u001b[1;31mNameError\u001b[0m: name 'xlsx_urls' is not defined"
     ]
    }
   ],
   "source": [
    "mega_df = pd.DataFrame([])\n",
    "\n",
    "for xlsx_url in xlsx_urls:\n",
    "\n",
    "    response = requests.get(xlsx_url)\n",
    "    xls_file = pd.ExcelFile(BytesIO(response.content))\n",
    "    # Create a dictionary of DataFrames, with sheet name as key\n",
    "    dataframes = {sheet_name: xls_file.parse(sheet_name) for sheet_name in xls_file.sheet_names}\n",
    "\n",
    "    for key in dataframes.keys():\n",
    "        if 'GHG Data' in key:\n",
    "            key_of_interest = key\n",
    "\n",
    "    ghg_data = dataframes[key_of_interest]\n",
    "    # Remove rows with several NaNs\n",
    "    ghg_data = ghg_data.dropna(thresh=10)\n",
    "    # First row is the header\n",
    "    ghg_data.columns = ghg_data.iloc[0]\n",
    "    # Remove rows\n",
    "    longbeach_df = ghg_data.loc[ghg_data.loc[:, 'City'] == 'Long Beach'].reset_index(drop=True)\n",
    "    # Remove columns with NaNs\n",
    "    longbeach_df = longbeach_df.dropna(axis=1, how='all')\n",
    "    # Remove \\n in column names\n",
    "    longbeach_df.columns = longbeach_df.columns.str.replace('\\n', ' ')\n",
    "    \n",
    "    mega_df = pd.concat([mega_df, longbeach_df], ignore_index=True)"
   ]
  },
  {
   "cell_type": "code",
   "execution_count": null,
   "metadata": {},
   "outputs": [],
   "source": []
  }
 ],
 "metadata": {
  "kernelspec": {
   "display_name": "Python 3",
   "language": "python",
   "name": "python3"
  },
  "language_info": {
   "codemirror_mode": {
    "name": "ipython",
    "version": 3
   },
   "file_extension": ".py",
   "mimetype": "text/x-python",
   "name": "python",
   "nbconvert_exporter": "python",
   "pygments_lexer": "ipython3",
   "version": "3.11.3"
  },
  "orig_nbformat": 4
 },
 "nbformat": 4,
 "nbformat_minor": 2
}
