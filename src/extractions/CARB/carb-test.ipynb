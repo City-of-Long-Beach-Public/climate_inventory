{
 "cells": [
  {
   "cell_type": "markdown",
   "metadata": {},
   "source": [
    "# California Air Resources Board (CARB)"
   ]
  },
  {
   "cell_type": "code",
   "execution_count": 4,
   "metadata": {},
   "outputs": [],
   "source": [
    "import requests\n",
    "import pandas as pd\n",
    "from bs4 import BeautifulSoup"
   ]
  },
  {
   "cell_type": "markdown",
   "metadata": {},
   "source": [
    "### Parameters"
   ]
  },
  {
   "cell_type": "code",
   "execution_count": 5,
   "metadata": {},
   "outputs": [],
   "source": [
    "URL = \"https://ww2.arb.ca.gov/mrr-data\"\n",
    "\n",
    "headers = {\n",
    "    \"Authority\": \"ww2.arb.ca.gov\",\n",
    "    \"Method\": \"GET\",\n",
    "    \"Path\": \"/mrr-data\",\n",
    "    \"Scheme\": \"https\",\n",
    "    \"Accept\": \"text/html,application/xhtml+xml,application/xml;q=0.9,image/avif,image/webp,image/apng,*/*;q=0.8,application/signed-exchange;v=b3;q=0.7\",\n",
    "    \"Accept-Encoding\": \"gzip, deflate, br\",\n",
    "    \"Accept-Language\": \"en-US,en;q=0.9\",\n",
    "    \"Cache-Control\": \"max-age=0\",\n",
    "    \"If-None-Match\": \"1689111602\",\n",
    "    \"Sec-Ch-Ua\": '\"Not.A/Brand\";v=\"8\", \"Chromium\";v=\"114\", \"Google Chrome\";v=\"114\"',\n",
    "    \"Sec-Ch-Ua-Mobile\": \"?0\",\n",
    "    \"Sec-Ch-Ua-Platform\": '\"Windows\"',\n",
    "    \"Sec-Fetch-Dest\": \"document\",\n",
    "    \"Sec-Fetch-Mode\": \"navigate\",\n",
    "    \"Sec-Fetch-Site\": \"cross-site\",\n",
    "    \"Sec-Fetch-User\": \"?1\",\n",
    "    \"Upgrade-Insecure-Requests\": \"1\",\n",
    "    \"User-Agent\": \"Mozilla/5.0 (Windows NT 10.0; Win64; x64) AppleWebKit/537.36 (KHTML, like Gecko) Chrome/114.0.0.0 Safari/537.36\"\n",
    "}\n"
   ]
  },
  {
   "cell_type": "markdown",
   "metadata": {},
   "source": [
    "### Tests"
   ]
  },
  {
   "cell_type": "code",
   "execution_count": 6,
   "metadata": {},
   "outputs": [],
   "source": [
    "r = requests.get(URL, headers=headers)"
   ]
  },
  {
   "cell_type": "code",
   "execution_count": 12,
   "metadata": {},
   "outputs": [],
   "source": [
    "soup = BeautifulSoup(r.content, \"html.parser\")\n",
    "soup\n",
    "# Get all hrefs and their text\n",
    "href_dict = {}\n",
    "hrefs = soup.find_all(\"a\")\n",
    "for href in hrefs:\n",
    "    text=  href.text\n",
    "    url = href.get(\"href\")\n",
    "\n",
    "    if \"xls\" in url:\n",
    "        href_dict[text] = url\n",
    "    "
   ]
  },
  {
   "cell_type": "code",
   "execution_count": 13,
   "metadata": {},
   "outputs": [
    {
     "data": {
      "text/plain": [
       "{'2021 GHG Facility and Entity Emissions': '//ww2.arb.ca.gov/sites/default/files/classic/cc/reporting/ghg-rep/reported-data/2021-ghg-emissions-2022-11-04.xlsx',\n",
       " '2020 GHG Facility and Entity Emissions': '//ww2.arb.ca.gov/sites/default/files/classic/cc/reporting/ghg-rep/reported-data/2020-ghg-emissions-2021-11-04-archive.xlsx',\n",
       " '2019 GHG Facility and Entity Emissions': '//ww2.arb.ca.gov/sites/default/files/classic/cc/reporting/ghg-rep/reported-data/2019-ghg-emissions-2021-11-04-archive.xlsx',\n",
       " '2018 GHG Facility and Entity Emissions': '//ww2.arb.ca.gov/sites/default/files/classic/cc/reporting/ghg-rep/reported-data/2018-ghg-emissions-2021-11-04-archive.xlsx',\n",
       " '2017 GHG Facility and Entity Emissions': '//ww2.arb.ca.gov/sites/default/files/classic/cc/reporting/ghg-rep/reported-data/2017-ghg-emissions-2020-11-04-archive.xlsx',\n",
       " '2016 GHG Facility and Entity Emissions': '//ww2.arb.ca.gov/sites/default/files/classic/cc/reporting/ghg-rep/reported-data/2016-ghg-emissions-2020-11-04-archive.xlsx',\n",
       " '2015 GHG Facility and Entity Emissions': '//ww2.arb.ca.gov/sites/default/files/classic/cc/reporting/ghg-rep/reported-data/2015-ghg-emissions-2018-11-21-archive.xlsx',\n",
       " '2014 GHG Facility and Entity Emissions': '//ww2.arb.ca.gov/sites/default/files/classic/cc/reporting/ghg-rep/reported-data/2014-ghg-emissions-2018-11-21-archive.xlsx',\n",
       " '2013 GHG Facility and Entity Emissions': '//ww2.arb.ca.gov/sites/default/files/classic/cc/reporting/ghg-rep/reported-data/2013-ghg-emissions-2018-11-05-archive.xlsx',\n",
       " '2012 GHG Facility and Entity Emissions': '//ww2.arb.ca.gov/sites/default/files/classic/cc/reporting/ghg-rep/reported-data/2012-ghg-emissions-2018-11-05-archive.xlsx',\n",
       " '2011 GHG Facility and Entity Emissions': '//ww2.arb.ca.gov/sites/default/files/classic/cc/reporting/ghg-rep/reported-data/2011-ghg-emissions-2017-11-06-archive.xlsx',\n",
       " '2010 Emissions Summary': '//ww2.arb.ca.gov/sites/default/files/classic/cc/reporting/ghg-rep/reported-data/2010-ghg-emissions-2015-06-15.xlsx',\n",
       " '2009 Emissions Summary': '//ww2.arb.ca.gov/sites/default/files/classic/cc/reporting/ghg-rep/reported-data/2009-ghg-emissions-facility-2012-03-12.xlsx',\n",
       " '2008 Emissions Summary': '//ww2.arb.ca.gov/sites/default/files/classic/cc/reporting/ghg-rep/reported-data/2008-ghg-emissions-facility-2012-03-12.xlsx',\n",
       " '2010 Transactions Summary': '//ww2.arb.ca.gov/sites/default/files/classic/cc/reporting/ghg-rep/reported-data/2010-ghg-emissions-entity-2012-03-13.xlsx',\n",
       " '2009 Transactions Summary': '//ww2.arb.ca.gov/sites/default/files/classic/cc/reporting/ghg-rep/reported-data/2009-ghg-emissions-entity-2012-03-13.xlsx',\n",
       " '2008 Transactions Summary': '//ww2.arb.ca.gov/sites/default/files/classic/cc/reporting/ghg-rep/reported-data/2008-ghg-emissions-entity-2012-03-13.xlsx'}"
      ]
     },
     "execution_count": 13,
     "metadata": {},
     "output_type": "execute_result"
    }
   ],
   "source": [
    "href_dict"
   ]
  }
 ],
 "metadata": {
  "kernelspec": {
   "display_name": "Python 3",
   "language": "python",
   "name": "python3"
  },
  "language_info": {
   "codemirror_mode": {
    "name": "ipython",
    "version": 3
   },
   "file_extension": ".py",
   "mimetype": "text/x-python",
   "name": "python",
   "nbconvert_exporter": "python",
   "pygments_lexer": "ipython3",
   "version": "3.11.3"
  },
  "orig_nbformat": 4
 },
 "nbformat": 4,
 "nbformat_minor": 2
}
